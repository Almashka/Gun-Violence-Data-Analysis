{
 "cells": [
  {
   "cell_type": "code",
   "execution_count": 2,
   "metadata": {
    "colab": {},
    "colab_type": "code",
    "id": "BuMXXdL5Lkos"
   },
   "outputs": [],
   "source": [
    "import numpy as np \n",
    "import pandas as pd\n",
    "import matplotlib.pyplot as plt \n",
    "import seaborn as sns \n",
    "import matplotlib as mpl\n",
    "%matplotlib inline\n",
    "\n",
    "import os\n",
    "import io"
   ]
  },
  {
   "cell_type": "code",
   "execution_count": 1,
   "metadata": {
    "colab": {
     "base_uri": "https://localhost:8080/",
     "height": 35
    },
    "colab_type": "code",
    "executionInfo": {
     "elapsed": 523,
     "status": "ok",
     "timestamp": 1554680915484,
     "user": {
      "displayName": "Nadide Pasali",
      "photoUrl": "https://lh4.googleusercontent.com/-5H-MjChVSp0/AAAAAAAAAAI/AAAAAAAAIsA/hxS2uFmBR-8/s64/photo.jpg",
      "userId": "06740983517150493646"
     },
     "user_tz": 300
    },
    "id": "Yh9kInzYLk5Q",
    "outputId": "fb49e828-fbc4-45c1-a2b1-c1871b182d49"
   },
   "outputs": [
    {
     "ename": "NameError",
     "evalue": "name 'pd' is not defined",
     "output_type": "error",
     "traceback": [
      "\u001b[0;31m---------------------------------------------------------------------------\u001b[0m",
      "\u001b[0;31mNameError\u001b[0m                                 Traceback (most recent call last)",
      "\u001b[0;32m<ipython-input-1-52d829eee713>\u001b[0m in \u001b[0;36m<module>\u001b[0;34m\u001b[0m\n\u001b[0;32m----> 1\u001b[0;31m \u001b[0mdf\u001b[0m \u001b[0;34m=\u001b[0m \u001b[0mpd\u001b[0m\u001b[0;34m.\u001b[0m\u001b[0mread_csv\u001b[0m\u001b[0;34m(\u001b[0m\u001b[0;34m'../../data/gun-violence-data_01-2013_03-2018.csv'\u001b[0m\u001b[0;34m)\u001b[0m\u001b[0;34m\u001b[0m\u001b[0;34m\u001b[0m\u001b[0m\n\u001b[0m\u001b[1;32m      2\u001b[0m \u001b[0mprint\u001b[0m\u001b[0;34m(\u001b[0m\u001b[0mdf\u001b[0m\u001b[0;34m.\u001b[0m\u001b[0mshape\u001b[0m\u001b[0;34m)\u001b[0m\u001b[0;34m\u001b[0m\u001b[0;34m\u001b[0m\u001b[0m\n\u001b[1;32m      3\u001b[0m \u001b[0mdf\u001b[0m\u001b[0;34m.\u001b[0m\u001b[0mhead\u001b[0m\u001b[0;34m(\u001b[0m\u001b[0;34m)\u001b[0m\u001b[0;34m\u001b[0m\u001b[0;34m\u001b[0m\u001b[0m\n",
      "\u001b[0;31mNameError\u001b[0m: name 'pd' is not defined"
     ]
    }
   ],
   "source": [
    "df = pd.read_csv('../../data/gun-violence-data_01-2013_03-2018.csv')\n",
    "print(df.shape)\n",
    "df.head()"
   ]
  },
  {
   "cell_type": "code",
   "execution_count": 9,
   "metadata": {
    "colab": {
     "base_uri": "https://localhost:8080/",
     "height": 297
    },
    "colab_type": "code",
    "executionInfo": {
     "elapsed": 488,
     "status": "ok",
     "timestamp": 1554680940139,
     "user": {
      "displayName": "Nadide Pasali",
      "photoUrl": "https://lh4.googleusercontent.com/-5H-MjChVSp0/AAAAAAAAAAI/AAAAAAAAIsA/hxS2uFmBR-8/s64/photo.jpg",
      "userId": "06740983517150493646"
     },
     "user_tz": 300
    },
    "id": "ZncFdg92LlBM",
    "outputId": "f9675ead-cff0-4895-f93a-b1ee7856c110"
   },
   "outputs": [
    {
     "data": {
      "text/html": [
       "<div>\n",
       "<style scoped>\n",
       "    .dataframe tbody tr th:only-of-type {\n",
       "        vertical-align: middle;\n",
       "    }\n",
       "\n",
       "    .dataframe tbody tr th {\n",
       "        vertical-align: top;\n",
       "    }\n",
       "\n",
       "    .dataframe thead th {\n",
       "        text-align: right;\n",
       "    }\n",
       "</style>\n",
       "<table border=\"1\" class=\"dataframe\">\n",
       "  <thead>\n",
       "    <tr style=\"text-align: right;\">\n",
       "      <th></th>\n",
       "      <th>incident_id</th>\n",
       "      <th>n_killed</th>\n",
       "      <th>n_injured</th>\n",
       "      <th>congressional_district</th>\n",
       "      <th>latitude</th>\n",
       "      <th>longitude</th>\n",
       "      <th>n_guns_involved</th>\n",
       "      <th>state_house_district</th>\n",
       "      <th>state_senate_district</th>\n",
       "    </tr>\n",
       "  </thead>\n",
       "  <tbody>\n",
       "    <tr>\n",
       "      <th>count</th>\n",
       "      <td>2.396770e+05</td>\n",
       "      <td>239677.000000</td>\n",
       "      <td>239677.000000</td>\n",
       "      <td>227733.000000</td>\n",
       "      <td>231754.000000</td>\n",
       "      <td>231754.000000</td>\n",
       "      <td>140226.000000</td>\n",
       "      <td>200905.000000</td>\n",
       "      <td>207342.00000</td>\n",
       "    </tr>\n",
       "    <tr>\n",
       "      <th>mean</th>\n",
       "      <td>5.593343e+05</td>\n",
       "      <td>0.252290</td>\n",
       "      <td>0.494007</td>\n",
       "      <td>8.001265</td>\n",
       "      <td>37.546598</td>\n",
       "      <td>-89.338348</td>\n",
       "      <td>1.372442</td>\n",
       "      <td>55.447132</td>\n",
       "      <td>20.47711</td>\n",
       "    </tr>\n",
       "    <tr>\n",
       "      <th>std</th>\n",
       "      <td>2.931287e+05</td>\n",
       "      <td>0.521779</td>\n",
       "      <td>0.729952</td>\n",
       "      <td>8.480835</td>\n",
       "      <td>5.130763</td>\n",
       "      <td>14.359546</td>\n",
       "      <td>4.678202</td>\n",
       "      <td>42.048117</td>\n",
       "      <td>14.20456</td>\n",
       "    </tr>\n",
       "    <tr>\n",
       "      <th>min</th>\n",
       "      <td>9.211400e+04</td>\n",
       "      <td>0.000000</td>\n",
       "      <td>0.000000</td>\n",
       "      <td>0.000000</td>\n",
       "      <td>19.111400</td>\n",
       "      <td>-171.429000</td>\n",
       "      <td>1.000000</td>\n",
       "      <td>1.000000</td>\n",
       "      <td>1.00000</td>\n",
       "    </tr>\n",
       "    <tr>\n",
       "      <th>25%</th>\n",
       "      <td>3.085450e+05</td>\n",
       "      <td>0.000000</td>\n",
       "      <td>0.000000</td>\n",
       "      <td>2.000000</td>\n",
       "      <td>33.903400</td>\n",
       "      <td>-94.158725</td>\n",
       "      <td>1.000000</td>\n",
       "      <td>21.000000</td>\n",
       "      <td>9.00000</td>\n",
       "    </tr>\n",
       "    <tr>\n",
       "      <th>50%</th>\n",
       "      <td>5.435870e+05</td>\n",
       "      <td>0.000000</td>\n",
       "      <td>0.000000</td>\n",
       "      <td>5.000000</td>\n",
       "      <td>38.570600</td>\n",
       "      <td>-86.249600</td>\n",
       "      <td>1.000000</td>\n",
       "      <td>47.000000</td>\n",
       "      <td>19.00000</td>\n",
       "    </tr>\n",
       "    <tr>\n",
       "      <th>75%</th>\n",
       "      <td>8.172280e+05</td>\n",
       "      <td>0.000000</td>\n",
       "      <td>1.000000</td>\n",
       "      <td>10.000000</td>\n",
       "      <td>41.437375</td>\n",
       "      <td>-80.048625</td>\n",
       "      <td>1.000000</td>\n",
       "      <td>84.000000</td>\n",
       "      <td>30.00000</td>\n",
       "    </tr>\n",
       "    <tr>\n",
       "      <th>max</th>\n",
       "      <td>1.083472e+06</td>\n",
       "      <td>50.000000</td>\n",
       "      <td>53.000000</td>\n",
       "      <td>53.000000</td>\n",
       "      <td>71.336800</td>\n",
       "      <td>97.433100</td>\n",
       "      <td>400.000000</td>\n",
       "      <td>901.000000</td>\n",
       "      <td>94.00000</td>\n",
       "    </tr>\n",
       "  </tbody>\n",
       "</table>\n",
       "</div>"
      ],
      "text/plain": [
       "        incident_id       n_killed      n_injured  congressional_district  \\\n",
       "count  2.396770e+05  239677.000000  239677.000000           227733.000000   \n",
       "mean   5.593343e+05       0.252290       0.494007                8.001265   \n",
       "std    2.931287e+05       0.521779       0.729952                8.480835   \n",
       "min    9.211400e+04       0.000000       0.000000                0.000000   \n",
       "25%    3.085450e+05       0.000000       0.000000                2.000000   \n",
       "50%    5.435870e+05       0.000000       0.000000                5.000000   \n",
       "75%    8.172280e+05       0.000000       1.000000               10.000000   \n",
       "max    1.083472e+06      50.000000      53.000000               53.000000   \n",
       "\n",
       "            latitude      longitude  n_guns_involved  state_house_district  \\\n",
       "count  231754.000000  231754.000000    140226.000000         200905.000000   \n",
       "mean       37.546598     -89.338348         1.372442             55.447132   \n",
       "std         5.130763      14.359546         4.678202             42.048117   \n",
       "min        19.111400    -171.429000         1.000000              1.000000   \n",
       "25%        33.903400     -94.158725         1.000000             21.000000   \n",
       "50%        38.570600     -86.249600         1.000000             47.000000   \n",
       "75%        41.437375     -80.048625         1.000000             84.000000   \n",
       "max        71.336800      97.433100       400.000000            901.000000   \n",
       "\n",
       "       state_senate_district  \n",
       "count           207342.00000  \n",
       "mean                20.47711  \n",
       "std                 14.20456  \n",
       "min                  1.00000  \n",
       "25%                  9.00000  \n",
       "50%                 19.00000  \n",
       "75%                 30.00000  \n",
       "max                 94.00000  "
      ]
     },
     "execution_count": 9,
     "metadata": {
      "tags": []
     },
     "output_type": "execute_result"
    }
   ],
   "source": [
    "df.describe()"
   ]
  },
  {
   "cell_type": "code",
   "execution_count": 10,
   "metadata": {
    "colab": {
     "base_uri": "https://localhost:8080/",
     "height": 629
    },
    "colab_type": "code",
    "executionInfo": {
     "elapsed": 794,
     "status": "ok",
     "timestamp": 1554680959774,
     "user": {
      "displayName": "Nadide Pasali",
      "photoUrl": "https://lh4.googleusercontent.com/-5H-MjChVSp0/AAAAAAAAAAI/AAAAAAAAIsA/hxS2uFmBR-8/s64/photo.jpg",
      "userId": "06740983517150493646"
     },
     "user_tz": 300
    },
    "id": "uRY4K6rwLlD5",
    "outputId": "9aebe09f-0e19-4b15-8dbe-a131146e7df2"
   },
   "outputs": [
    {
     "name": "stdout",
     "output_type": "stream",
     "text": [
      "<class 'pandas.core.frame.DataFrame'>\n",
      "RangeIndex: 239677 entries, 0 to 239676\n",
      "Data columns (total 29 columns):\n",
      "incident_id                    239677 non-null int64\n",
      "date                           239677 non-null object\n",
      "state                          239677 non-null object\n",
      "city_or_county                 239677 non-null object\n",
      "address                        223180 non-null object\n",
      "n_killed                       239677 non-null int64\n",
      "n_injured                      239677 non-null int64\n",
      "incident_url                   239677 non-null object\n",
      "source_url                     239209 non-null object\n",
      "incident_url_fields_missing    239677 non-null bool\n",
      "congressional_district         227733 non-null float64\n",
      "gun_stolen                     140179 non-null object\n",
      "gun_type                       140226 non-null object\n",
      "incident_characteristics       239351 non-null object\n",
      "latitude                       231754 non-null float64\n",
      "location_description           42089 non-null object\n",
      "longitude                      231754 non-null float64\n",
      "n_guns_involved                140226 non-null float64\n",
      "notes                          158660 non-null object\n",
      "participant_age                147379 non-null object\n",
      "participant_age_group          197558 non-null object\n",
      "participant_gender             203315 non-null object\n",
      "participant_name               117424 non-null object\n",
      "participant_relationship       15774 non-null object\n",
      "participant_status             212051 non-null object\n",
      "participant_type               214814 non-null object\n",
      "sources                        239068 non-null object\n",
      "state_house_district           200905 non-null float64\n",
      "state_senate_district          207342 non-null float64\n",
      "dtypes: bool(1), float64(6), int64(3), object(19)\n",
      "memory usage: 51.4+ MB\n"
     ]
    }
   ],
   "source": [
    "df.info()"
   ]
  },
  {
   "cell_type": "code",
   "execution_count": 11,
   "metadata": {
    "colab": {
     "base_uri": "https://localhost:8080/",
     "height": 215
    },
    "colab_type": "code",
    "executionInfo": {
     "elapsed": 409,
     "status": "ok",
     "timestamp": 1554681044992,
     "user": {
      "displayName": "Nadide Pasali",
      "photoUrl": "https://lh4.googleusercontent.com/-5H-MjChVSp0/AAAAAAAAAAI/AAAAAAAAIsA/hxS2uFmBR-8/s64/photo.jpg",
      "userId": "06740983517150493646"
     },
     "user_tz": 300
    },
    "id": "P-i936SoLlHG",
    "outputId": "115864c1-3e47-4956-df5f-4ccf5af76859"
   },
   "outputs": [
    {
     "data": {
      "text/plain": [
       "array(['Pennsylvania', 'California', 'Ohio', 'Colorado', 'North Carolina',\n",
       "       'Oklahoma', 'New Mexico', 'Louisiana', 'Maryland', 'Tennessee',\n",
       "       'Missouri', 'District of Columbia', 'Illinois', 'Delaware', 'Utah',\n",
       "       'Michigan', 'Georgia', 'Indiana', 'Mississippi', 'New York',\n",
       "       'Florida', 'Washington', 'South Carolina', 'Arizona', 'Kentucky',\n",
       "       'New Jersey', 'Virginia', 'Wisconsin', 'Rhode Island', 'Texas',\n",
       "       'Alabama', 'Kansas', 'Connecticut', 'West Virginia', 'Minnesota',\n",
       "       'Nevada', 'Nebraska', 'Massachusetts', 'Hawaii', 'New Hampshire',\n",
       "       'Iowa', 'Alaska', 'Arkansas', 'Idaho', 'Oregon', 'Wyoming',\n",
       "       'Maine', 'North Dakota', 'Montana', 'Vermont', 'South Dakota'],\n",
       "      dtype=object)"
      ]
     },
     "execution_count": 11,
     "metadata": {
      "tags": []
     },
     "output_type": "execute_result"
    }
   ],
   "source": [
    "df['state'].unique()"
   ]
  },
  {
   "cell_type": "code",
   "execution_count": 12,
   "metadata": {
    "colab": {
     "base_uri": "https://localhost:8080/",
     "height": 953
    },
    "colab_type": "code",
    "executionInfo": {
     "elapsed": 509,
     "status": "ok",
     "timestamp": 1554681077919,
     "user": {
      "displayName": "Nadide Pasali",
      "photoUrl": "https://lh4.googleusercontent.com/-5H-MjChVSp0/AAAAAAAAAAI/AAAAAAAAIsA/hxS2uFmBR-8/s64/photo.jpg",
      "userId": "06740983517150493646"
     },
     "user_tz": 300
    },
    "id": "kJ3BFPx8Ndq8",
    "outputId": "2e105c79-08d8-42c2-8d8e-16574b40decc"
   },
   "outputs": [
    {
     "data": {
      "text/plain": [
       "Illinois                17556\n",
       "California              16306\n",
       "Florida                 15029\n",
       "Texas                   13577\n",
       "Ohio                    10244\n",
       "New York                 9712\n",
       "Pennsylvania             8929\n",
       "Georgia                  8925\n",
       "North Carolina           8739\n",
       "Louisiana                8103\n",
       "Tennessee                7626\n",
       "South Carolina           6939\n",
       "Missouri                 6631\n",
       "Michigan                 6136\n",
       "Massachusetts            5981\n",
       "Virginia                 5949\n",
       "Indiana                  5852\n",
       "Maryland                 5798\n",
       "Alabama                  5471\n",
       "New Jersey               5387\n",
       "Wisconsin                4787\n",
       "Kentucky                 4157\n",
       "Mississippi              3599\n",
       "Oklahoma                 3455\n",
       "Washington               3434\n",
       "Colorado                 3201\n",
       "District of Columbia     3195\n",
       "Connecticut              3067\n",
       "Arkansas                 2842\n",
       "Iowa                     2517\n",
       "Minnesota                2408\n",
       "Arizona                  2328\n",
       "Oregon                   2286\n",
       "Kansas                   2145\n",
       "Nevada                   1952\n",
       "Delaware                 1685\n",
       "Nebraska                 1651\n",
       "New Mexico               1645\n",
       "West Virginia            1575\n",
       "Alaska                   1349\n",
       "Utah                     1072\n",
       "New Hampshire             964\n",
       "Maine                     907\n",
       "Rhode Island              895\n",
       "Idaho                     661\n",
       "Montana                   638\n",
       "North Dakota              573\n",
       "South Dakota              544\n",
       "Wyoming                   494\n",
       "Vermont                   472\n",
       "Hawaii                    289\n",
       "Name: state, dtype: int64"
      ]
     },
     "execution_count": 12,
     "metadata": {
      "tags": []
     },
     "output_type": "execute_result"
    }
   ],
   "source": [
    "df['state'].value_counts()"
   ]
  },
  {
   "cell_type": "code",
   "execution_count": 13,
   "metadata": {
    "colab": {
     "base_uri": "https://localhost:8080/",
     "height": 542
    },
    "colab_type": "code",
    "executionInfo": {
     "elapsed": 655,
     "status": "ok",
     "timestamp": 1554681443951,
     "user": {
      "displayName": "Nadide Pasali",
      "photoUrl": "https://lh4.googleusercontent.com/-5H-MjChVSp0/AAAAAAAAAAI/AAAAAAAAIsA/hxS2uFmBR-8/s64/photo.jpg",
      "userId": "06740983517150493646"
     },
     "user_tz": 300
    },
    "id": "ucnzjD5ENdte",
    "outputId": "302cdbe6-e4fd-4a77-adfb-add09b532f24"
   },
   "outputs": [
    {
     "data": {
      "text/html": [
       "<div>\n",
       "<style scoped>\n",
       "    .dataframe tbody tr th:only-of-type {\n",
       "        vertical-align: middle;\n",
       "    }\n",
       "\n",
       "    .dataframe tbody tr th {\n",
       "        vertical-align: top;\n",
       "    }\n",
       "\n",
       "    .dataframe thead th {\n",
       "        text-align: right;\n",
       "    }\n",
       "</style>\n",
       "<table border=\"1\" class=\"dataframe\">\n",
       "  <thead>\n",
       "    <tr style=\"text-align: right;\">\n",
       "      <th></th>\n",
       "      <th>date</th>\n",
       "      <th>state</th>\n",
       "      <th>city_or_county</th>\n",
       "      <th>address</th>\n",
       "      <th>n_killed</th>\n",
       "      <th>n_injured</th>\n",
       "      <th>congressional_district</th>\n",
       "      <th>gun_stolen</th>\n",
       "      <th>gun_type</th>\n",
       "      <th>incident_characteristics</th>\n",
       "      <th>...</th>\n",
       "      <th>participant_status</th>\n",
       "      <th>participant_type</th>\n",
       "      <th>state_house_district</th>\n",
       "      <th>state_senate_district</th>\n",
       "      <th>day</th>\n",
       "      <th>month</th>\n",
       "      <th>year</th>\n",
       "      <th>weekday</th>\n",
       "      <th>week</th>\n",
       "      <th>quarter</th>\n",
       "    </tr>\n",
       "  </thead>\n",
       "  <tbody>\n",
       "    <tr>\n",
       "      <th>0</th>\n",
       "      <td>2013-01-01</td>\n",
       "      <td>Pennsylvania</td>\n",
       "      <td>Mckeesport</td>\n",
       "      <td>1506 Versailles Avenue and Coursin Street</td>\n",
       "      <td>0</td>\n",
       "      <td>4</td>\n",
       "      <td>14.0</td>\n",
       "      <td>NaN</td>\n",
       "      <td>NaN</td>\n",
       "      <td>Shot - Wounded/Injured||Mass Shooting (4+ vict...</td>\n",
       "      <td>...</td>\n",
       "      <td>0::Arrested||1::Injured||2::Injured||3::Injure...</td>\n",
       "      <td>0::Victim||1::Victim||2::Victim||3::Victim||4:...</td>\n",
       "      <td>NaN</td>\n",
       "      <td>NaN</td>\n",
       "      <td>1</td>\n",
       "      <td>1</td>\n",
       "      <td>2013</td>\n",
       "      <td>1</td>\n",
       "      <td>1</td>\n",
       "      <td>1</td>\n",
       "    </tr>\n",
       "    <tr>\n",
       "      <th>1</th>\n",
       "      <td>2013-01-01</td>\n",
       "      <td>California</td>\n",
       "      <td>Hawthorne</td>\n",
       "      <td>13500 block of Cerise Avenue</td>\n",
       "      <td>1</td>\n",
       "      <td>3</td>\n",
       "      <td>43.0</td>\n",
       "      <td>NaN</td>\n",
       "      <td>NaN</td>\n",
       "      <td>Shot - Wounded/Injured||Shot - Dead (murder, a...</td>\n",
       "      <td>...</td>\n",
       "      <td>0::Killed||1::Injured||2::Injured||3::Injured</td>\n",
       "      <td>0::Victim||1::Victim||2::Victim||3::Victim||4:...</td>\n",
       "      <td>62.0</td>\n",
       "      <td>35.0</td>\n",
       "      <td>1</td>\n",
       "      <td>1</td>\n",
       "      <td>2013</td>\n",
       "      <td>1</td>\n",
       "      <td>1</td>\n",
       "      <td>1</td>\n",
       "    </tr>\n",
       "    <tr>\n",
       "      <th>2</th>\n",
       "      <td>2013-01-01</td>\n",
       "      <td>Ohio</td>\n",
       "      <td>Lorain</td>\n",
       "      <td>1776 East 28th Street</td>\n",
       "      <td>1</td>\n",
       "      <td>3</td>\n",
       "      <td>9.0</td>\n",
       "      <td>0::Unknown||1::Unknown</td>\n",
       "      <td>0::Unknown||1::Unknown</td>\n",
       "      <td>Shot - Wounded/Injured||Shot - Dead (murder, a...</td>\n",
       "      <td>...</td>\n",
       "      <td>0::Injured, Unharmed, Arrested||1::Unharmed, A...</td>\n",
       "      <td>0::Subject-Suspect||1::Subject-Suspect||2::Vic...</td>\n",
       "      <td>56.0</td>\n",
       "      <td>13.0</td>\n",
       "      <td>1</td>\n",
       "      <td>1</td>\n",
       "      <td>2013</td>\n",
       "      <td>1</td>\n",
       "      <td>1</td>\n",
       "      <td>1</td>\n",
       "    </tr>\n",
       "    <tr>\n",
       "      <th>3</th>\n",
       "      <td>2013-01-05</td>\n",
       "      <td>Colorado</td>\n",
       "      <td>Aurora</td>\n",
       "      <td>16000 block of East Ithaca Place</td>\n",
       "      <td>4</td>\n",
       "      <td>0</td>\n",
       "      <td>6.0</td>\n",
       "      <td>NaN</td>\n",
       "      <td>NaN</td>\n",
       "      <td>Shot - Dead (murder, accidental, suicide)||Off...</td>\n",
       "      <td>...</td>\n",
       "      <td>0::Killed||1::Killed||2::Killed||3::Killed</td>\n",
       "      <td>0::Victim||1::Victim||2::Victim||3::Subject-Su...</td>\n",
       "      <td>40.0</td>\n",
       "      <td>28.0</td>\n",
       "      <td>5</td>\n",
       "      <td>1</td>\n",
       "      <td>2013</td>\n",
       "      <td>5</td>\n",
       "      <td>1</td>\n",
       "      <td>1</td>\n",
       "    </tr>\n",
       "    <tr>\n",
       "      <th>4</th>\n",
       "      <td>2013-01-07</td>\n",
       "      <td>North Carolina</td>\n",
       "      <td>Greensboro</td>\n",
       "      <td>307 Mourning Dove Terrace</td>\n",
       "      <td>2</td>\n",
       "      <td>2</td>\n",
       "      <td>6.0</td>\n",
       "      <td>0::Unknown||1::Unknown</td>\n",
       "      <td>0::Handgun||1::Handgun</td>\n",
       "      <td>Shot - Wounded/Injured||Shot - Dead (murder, a...</td>\n",
       "      <td>...</td>\n",
       "      <td>0::Injured||1::Injured||2::Killed||3::Killed</td>\n",
       "      <td>0::Victim||1::Victim||2::Victim||3::Subject-Su...</td>\n",
       "      <td>62.0</td>\n",
       "      <td>27.0</td>\n",
       "      <td>7</td>\n",
       "      <td>1</td>\n",
       "      <td>2013</td>\n",
       "      <td>0</td>\n",
       "      <td>2</td>\n",
       "      <td>1</td>\n",
       "    </tr>\n",
       "  </tbody>\n",
       "</table>\n",
       "<p>5 rows × 28 columns</p>\n",
       "</div>"
      ],
      "text/plain": [
       "        date           state city_or_county  \\\n",
       "0 2013-01-01    Pennsylvania     Mckeesport   \n",
       "1 2013-01-01      California      Hawthorne   \n",
       "2 2013-01-01            Ohio         Lorain   \n",
       "3 2013-01-05        Colorado         Aurora   \n",
       "4 2013-01-07  North Carolina     Greensboro   \n",
       "\n",
       "                                     address  n_killed  n_injured  \\\n",
       "0  1506 Versailles Avenue and Coursin Street         0          4   \n",
       "1               13500 block of Cerise Avenue         1          3   \n",
       "2                      1776 East 28th Street         1          3   \n",
       "3           16000 block of East Ithaca Place         4          0   \n",
       "4                  307 Mourning Dove Terrace         2          2   \n",
       "\n",
       "   congressional_district              gun_stolen                gun_type  \\\n",
       "0                    14.0                     NaN                     NaN   \n",
       "1                    43.0                     NaN                     NaN   \n",
       "2                     9.0  0::Unknown||1::Unknown  0::Unknown||1::Unknown   \n",
       "3                     6.0                     NaN                     NaN   \n",
       "4                     6.0  0::Unknown||1::Unknown  0::Handgun||1::Handgun   \n",
       "\n",
       "                            incident_characteristics   ...    \\\n",
       "0  Shot - Wounded/Injured||Mass Shooting (4+ vict...   ...     \n",
       "1  Shot - Wounded/Injured||Shot - Dead (murder, a...   ...     \n",
       "2  Shot - Wounded/Injured||Shot - Dead (murder, a...   ...     \n",
       "3  Shot - Dead (murder, accidental, suicide)||Off...   ...     \n",
       "4  Shot - Wounded/Injured||Shot - Dead (murder, a...   ...     \n",
       "\n",
       "                                  participant_status  \\\n",
       "0  0::Arrested||1::Injured||2::Injured||3::Injure...   \n",
       "1      0::Killed||1::Injured||2::Injured||3::Injured   \n",
       "2  0::Injured, Unharmed, Arrested||1::Unharmed, A...   \n",
       "3         0::Killed||1::Killed||2::Killed||3::Killed   \n",
       "4       0::Injured||1::Injured||2::Killed||3::Killed   \n",
       "\n",
       "                                    participant_type  state_house_district  \\\n",
       "0  0::Victim||1::Victim||2::Victim||3::Victim||4:...                   NaN   \n",
       "1  0::Victim||1::Victim||2::Victim||3::Victim||4:...                  62.0   \n",
       "2  0::Subject-Suspect||1::Subject-Suspect||2::Vic...                  56.0   \n",
       "3  0::Victim||1::Victim||2::Victim||3::Subject-Su...                  40.0   \n",
       "4  0::Victim||1::Victim||2::Victim||3::Subject-Su...                  62.0   \n",
       "\n",
       "  state_senate_district day month  year weekday week quarter  \n",
       "0                   NaN   1     1  2013       1    1       1  \n",
       "1                  35.0   1     1  2013       1    1       1  \n",
       "2                  13.0   1     1  2013       1    1       1  \n",
       "3                  28.0   5     1  2013       5    1       1  \n",
       "4                  27.0   7     1  2013       0    2       1  \n",
       "\n",
       "[5 rows x 28 columns]"
      ]
     },
     "execution_count": 13,
     "metadata": {
      "tags": []
     },
     "output_type": "execute_result"
    }
   ],
   "source": [
    "df.drop([\n",
    "    \"incident_id\",\n",
    "    \"incident_url\",\n",
    "    \"sources\",\n",
    "    \"source_url\",\n",
    "    \"incident_url_fields_missing\",\n",
    "    \"location_description\",\n",
    "    \"participant_relationship\",\n",
    "    ], axis=1, inplace=True)\n",
    "\n",
    "##Converting object datatype to datetime\n",
    "df[\"date\"] = pd.to_datetime(df[\"date\"])\n",
    "\n",
    "## To create column-day,month,year,weekday ,week and quarter.\n",
    "df[\"day\"] = df[\"date\"].dt.day\n",
    "df[\"month\"] = df[\"date\"].dt.month\n",
    "df[\"year\"] = df[\"date\"].dt.year\n",
    "df[\"weekday\"] = df[\"date\"].dt.weekday\n",
    "df[\"week\"] = df[\"date\"].dt.week\n",
    "df[\"quarter\"] = df[\"date\"].dt.quarter\n",
    "\n",
    "df.head()"
   ]
  },
  {
   "cell_type": "code",
   "execution_count": 14,
   "metadata": {
    "colab": {
     "base_uri": "https://localhost:8080/",
     "height": 917
    },
    "colab_type": "code",
    "executionInfo": {
     "elapsed": 1355,
     "status": "ok",
     "timestamp": 1554681677872,
     "user": {
      "displayName": "Nadide Pasali",
      "photoUrl": "https://lh4.googleusercontent.com/-5H-MjChVSp0/AAAAAAAAAAI/AAAAAAAAIsA/hxS2uFmBR-8/s64/photo.jpg",
      "userId": "06740983517150493646"
     },
     "user_tz": 300
    },
    "id": "97BCQ1VMNdyZ",
    "outputId": "bfcddbf9-f6ac-4422-9e18-1056182790b6"
   },
   "outputs": [
    {
     "data": {
      "text/html": [
       "<div>\n",
       "<style scoped>\n",
       "    .dataframe tbody tr th:only-of-type {\n",
       "        vertical-align: middle;\n",
       "    }\n",
       "\n",
       "    .dataframe tbody tr th {\n",
       "        vertical-align: top;\n",
       "    }\n",
       "\n",
       "    .dataframe thead th {\n",
       "        text-align: right;\n",
       "    }\n",
       "</style>\n",
       "<table border=\"1\" class=\"dataframe\">\n",
       "  <thead>\n",
       "    <tr style=\"text-align: right;\">\n",
       "      <th></th>\n",
       "      <th>Total</th>\n",
       "      <th>Percent</th>\n",
       "    </tr>\n",
       "  </thead>\n",
       "  <tbody>\n",
       "    <tr>\n",
       "      <th>participant_name</th>\n",
       "      <td>122253</td>\n",
       "      <td>51.007397</td>\n",
       "    </tr>\n",
       "    <tr>\n",
       "      <th>gun_stolen</th>\n",
       "      <td>99498</td>\n",
       "      <td>41.513370</td>\n",
       "    </tr>\n",
       "    <tr>\n",
       "      <th>gun_type</th>\n",
       "      <td>99451</td>\n",
       "      <td>41.493760</td>\n",
       "    </tr>\n",
       "    <tr>\n",
       "      <th>n_guns_involved</th>\n",
       "      <td>99451</td>\n",
       "      <td>41.493760</td>\n",
       "    </tr>\n",
       "    <tr>\n",
       "      <th>participant_age</th>\n",
       "      <td>92298</td>\n",
       "      <td>38.509327</td>\n",
       "    </tr>\n",
       "    <tr>\n",
       "      <th>notes</th>\n",
       "      <td>81017</td>\n",
       "      <td>33.802576</td>\n",
       "    </tr>\n",
       "    <tr>\n",
       "      <th>participant_age_group</th>\n",
       "      <td>42119</td>\n",
       "      <td>17.573234</td>\n",
       "    </tr>\n",
       "    <tr>\n",
       "      <th>state_house_district</th>\n",
       "      <td>38772</td>\n",
       "      <td>16.176771</td>\n",
       "    </tr>\n",
       "    <tr>\n",
       "      <th>participant_gender</th>\n",
       "      <td>36362</td>\n",
       "      <td>15.171251</td>\n",
       "    </tr>\n",
       "    <tr>\n",
       "      <th>state_senate_district</th>\n",
       "      <td>32335</td>\n",
       "      <td>13.491073</td>\n",
       "    </tr>\n",
       "    <tr>\n",
       "      <th>participant_status</th>\n",
       "      <td>27626</td>\n",
       "      <td>11.526346</td>\n",
       "    </tr>\n",
       "    <tr>\n",
       "      <th>participant_type</th>\n",
       "      <td>24863</td>\n",
       "      <td>10.373544</td>\n",
       "    </tr>\n",
       "    <tr>\n",
       "      <th>address</th>\n",
       "      <td>16497</td>\n",
       "      <td>6.883013</td>\n",
       "    </tr>\n",
       "    <tr>\n",
       "      <th>congressional_district</th>\n",
       "      <td>11944</td>\n",
       "      <td>4.983373</td>\n",
       "    </tr>\n",
       "    <tr>\n",
       "      <th>longitude</th>\n",
       "      <td>7923</td>\n",
       "      <td>3.305699</td>\n",
       "    </tr>\n",
       "    <tr>\n",
       "      <th>latitude</th>\n",
       "      <td>7923</td>\n",
       "      <td>3.305699</td>\n",
       "    </tr>\n",
       "    <tr>\n",
       "      <th>incident_characteristics</th>\n",
       "      <td>326</td>\n",
       "      <td>0.136016</td>\n",
       "    </tr>\n",
       "    <tr>\n",
       "      <th>city_or_county</th>\n",
       "      <td>0</td>\n",
       "      <td>0.000000</td>\n",
       "    </tr>\n",
       "    <tr>\n",
       "      <th>n_injured</th>\n",
       "      <td>0</td>\n",
       "      <td>0.000000</td>\n",
       "    </tr>\n",
       "    <tr>\n",
       "      <th>n_killed</th>\n",
       "      <td>0</td>\n",
       "      <td>0.000000</td>\n",
       "    </tr>\n",
       "    <tr>\n",
       "      <th>state</th>\n",
       "      <td>0</td>\n",
       "      <td>0.000000</td>\n",
       "    </tr>\n",
       "    <tr>\n",
       "      <th>quarter</th>\n",
       "      <td>0</td>\n",
       "      <td>0.000000</td>\n",
       "    </tr>\n",
       "    <tr>\n",
       "      <th>week</th>\n",
       "      <td>0</td>\n",
       "      <td>0.000000</td>\n",
       "    </tr>\n",
       "    <tr>\n",
       "      <th>day</th>\n",
       "      <td>0</td>\n",
       "      <td>0.000000</td>\n",
       "    </tr>\n",
       "    <tr>\n",
       "      <th>month</th>\n",
       "      <td>0</td>\n",
       "      <td>0.000000</td>\n",
       "    </tr>\n",
       "    <tr>\n",
       "      <th>year</th>\n",
       "      <td>0</td>\n",
       "      <td>0.000000</td>\n",
       "    </tr>\n",
       "    <tr>\n",
       "      <th>weekday</th>\n",
       "      <td>0</td>\n",
       "      <td>0.000000</td>\n",
       "    </tr>\n",
       "    <tr>\n",
       "      <th>date</th>\n",
       "      <td>0</td>\n",
       "      <td>0.000000</td>\n",
       "    </tr>\n",
       "  </tbody>\n",
       "</table>\n",
       "</div>"
      ],
      "text/plain": [
       "                           Total    Percent\n",
       "participant_name          122253  51.007397\n",
       "gun_stolen                 99498  41.513370\n",
       "gun_type                   99451  41.493760\n",
       "n_guns_involved            99451  41.493760\n",
       "participant_age            92298  38.509327\n",
       "notes                      81017  33.802576\n",
       "participant_age_group      42119  17.573234\n",
       "state_house_district       38772  16.176771\n",
       "participant_gender         36362  15.171251\n",
       "state_senate_district      32335  13.491073\n",
       "participant_status         27626  11.526346\n",
       "participant_type           24863  10.373544\n",
       "address                    16497   6.883013\n",
       "congressional_district     11944   4.983373\n",
       "longitude                   7923   3.305699\n",
       "latitude                    7923   3.305699\n",
       "incident_characteristics     326   0.136016\n",
       "city_or_county                 0   0.000000\n",
       "n_injured                      0   0.000000\n",
       "n_killed                       0   0.000000\n",
       "state                          0   0.000000\n",
       "quarter                        0   0.000000\n",
       "week                           0   0.000000\n",
       "day                            0   0.000000\n",
       "month                          0   0.000000\n",
       "year                           0   0.000000\n",
       "weekday                        0   0.000000\n",
       "date                           0   0.000000"
      ]
     },
     "execution_count": 14,
     "metadata": {
      "tags": []
     },
     "output_type": "execute_result"
    }
   ],
   "source": [
    "# checking missing data\n",
    "total = df.isnull().sum().sort_values(ascending = False)\n",
    "percent = (df.isnull().sum()/df.isnull().count()*100).sort_values(ascending = False)\n",
    "missing_gun_data  = pd.concat([total, percent], axis=1, keys=['Total', 'Percent'])\n",
    "missing_gun_data"
   ]
  },
  {
   "cell_type": "code",
   "execution_count": null,
   "metadata": {
    "colab": {},
    "colab_type": "code",
    "id": "ju1XAD5JNd1f"
   },
   "outputs": [],
   "source": []
  },
  {
   "cell_type": "markdown",
   "metadata": {
    "colab_type": "text",
    "id": "PTCX4sjLQxv0"
   },
   "source": [
    " # Top States with highest number of Gun Violence¶"
   ]
  },
  {
   "cell_type": "code",
   "execution_count": 27,
   "metadata": {
    "colab": {
     "base_uri": "https://localhost:8080/",
     "height": 461
    },
    "colab_type": "code",
    "executionInfo": {
     "elapsed": 1017,
     "status": "ok",
     "timestamp": 1554683998080,
     "user": {
      "displayName": "Nadide Pasali",
      "photoUrl": "https://lh4.googleusercontent.com/-5H-MjChVSp0/AAAAAAAAAAI/AAAAAAAAIsA/hxS2uFmBR-8/s64/photo.jpg",
      "userId": "06740983517150493646"
     },
     "user_tz": 300
    },
    "id": "n8wrOS8SNd7z",
    "outputId": "e3e81809-26af-4651-abf0-e958db3ddae0"
   },
   "outputs": [
    {
     "name": "stderr",
     "output_type": "stream",
     "text": [
      "/usr/local/lib/python3.6/dist-packages/seaborn/categorical.py:1428: FutureWarning:\n",
      "\n",
      "remove_na is deprecated and is a private function. Do not use.\n",
      "\n"
     ]
    },
    {
     "data": {
      "text/plain": [
       "Text(0.5, 1.0, 'State Vs Crime Rate')"
      ]
     },
     "execution_count": 27,
     "metadata": {
      "tags": []
     },
     "output_type": "execute_result"
    },
    {
     "data": {
      "image/png": "[encoded data removed]",
      "text/plain": [
       "<Figure size 432x288 with 1 Axes>"
      ]
     },
     "metadata": {
      "tags": []
     },
     "output_type": "display_data"
    }
   ],
   "source": [
    "state_vs_crimecount=sns.countplot(x=df[\"state\"],data=df,order=df[\"state\"].head(30).value_counts().index)\n",
    "state_vs_crimecount.set_xticklabels(state_vs_crimecount.get_xticklabels(),rotation=90)\n",
    "state_vs_crimecount.set_title(\"State Vs Crime Rate\")"
   ]
  },
  {
   "cell_type": "code",
   "execution_count": null,
   "metadata": {
    "colab": {},
    "colab_type": "code",
    "id": "51EQsKhfh3F5"
   },
   "outputs": [],
   "source": [
    "city_vs_crimerate=df['city_or_county'].value_counts().head(10)\n",
    "city_vs_crimerate=sns.barplot(x=city_vs_crimerate.index,y=city_vs_crimerate)\n",
    "city_vs_crimerate.set_xticklabels(city_vs_crimerate.get_xticklabels(),rotation=45)\n",
    "city_vs_crimerate.set_title(\"Top 10 High Crime Rate Cities\")"
   ]
  },
  {
   "cell_type": "code",
   "execution_count": null,
   "metadata": {
    "colab": {},
    "colab_type": "code",
    "id": "mZSLzPB0XNjA"
   },
   "outputs": [],
   "source": [
    "import plotly \n",
    "\n",
    "plotly.tools.set_credentials_file(username='nadide', api_key='i3fmC2K0Vb6obeWsiu2X')\n",
    "\n",
    "\n",
    "\n"
   ]
  },
  {
   "cell_type": "code",
   "execution_count": null,
   "metadata": {
    "colab": {},
    "colab_type": "code",
    "id": "XwI50ohg4KW3"
   },
   "outputs": [],
   "source": []
  },
  {
   "cell_type": "code",
   "execution_count": 36,
   "metadata": {
    "colab": {
     "base_uri": "https://localhost:8080/",
     "height": 1344
    },
    "colab_type": "code",
    "executionInfo": {
     "elapsed": 1976,
     "status": "error",
     "timestamp": 1554692175200,
     "user": {
      "displayName": "Nadide Pasali",
      "photoUrl": "https://lh4.googleusercontent.com/-5H-MjChVSp0/AAAAAAAAAAI/AAAAAAAAIsA/hxS2uFmBR-8/s64/photo.jpg",
      "userId": "06740983517150493646"
     },
     "user_tz": 300
    },
    "id": "ap9jY18G3wJu",
    "outputId": "4d2c1276-6dfc-4473-f499-b70626cbb50b"
   },
   "outputs": [
    {
     "ename": "PlotlyRequestError",
     "evalue": "ignored",
     "output_type": "error",
     "traceback": [
      "\u001b[0;31m---------------------------------------------------------------------------\u001b[0m",
      "\u001b[0;31mPlotlyRequestError\u001b[0m                        Traceback (most recent call last)",
      "\u001b[0;32m<ipython-input-36-7f3f6ee3336c>\u001b[0m in \u001b[0;36m<module>\u001b[0;34m()\u001b[0m\n\u001b[1;32m     14\u001b[0m \u001b[0mdata\u001b[0m \u001b[0;34m=\u001b[0m \u001b[0;34m[\u001b[0m\u001b[0mtrace0\u001b[0m\u001b[0;34m,\u001b[0m \u001b[0mtrace1\u001b[0m\u001b[0;34m]\u001b[0m\u001b[0;34m\u001b[0m\u001b[0;34m\u001b[0m\u001b[0m\n\u001b[1;32m     15\u001b[0m \u001b[0;34m\u001b[0m\u001b[0m\n\u001b[0;32m---> 16\u001b[0;31m \u001b[0mpy\u001b[0m\u001b[0;34m.\u001b[0m\u001b[0mplot\u001b[0m\u001b[0;34m(\u001b[0m\u001b[0mdata\u001b[0m\u001b[0;34m,\u001b[0m \u001b[0mfilename\u001b[0m \u001b[0;34m=\u001b[0m \u001b[0;34m'basic-line'\u001b[0m\u001b[0;34m,\u001b[0m \u001b[0mauto_open\u001b[0m\u001b[0;34m=\u001b[0m\u001b[0;32mTrue\u001b[0m\u001b[0;34m)\u001b[0m\u001b[0;34m\u001b[0m\u001b[0;34m\u001b[0m\u001b[0m\n\u001b[0m",
      "\u001b[0;32m/usr/local/lib/python3.6/dist-packages/plotly/plotly/plotly.py\u001b[0m in \u001b[0;36mplot\u001b[0;34m(figure_or_data, validate, **plot_options)\u001b[0m\n\u001b[1;32m    237\u001b[0m     \u001b[0mdata\u001b[0m \u001b[0;34m=\u001b[0m \u001b[0mfig\u001b[0m\u001b[0;34m.\u001b[0m\u001b[0mget\u001b[0m\u001b[0;34m(\u001b[0m\u001b[0;34m'data'\u001b[0m\u001b[0;34m,\u001b[0m \u001b[0;34m[\u001b[0m\u001b[0;34m]\u001b[0m\u001b[0;34m)\u001b[0m\u001b[0;34m\u001b[0m\u001b[0;34m\u001b[0m\u001b[0m\n\u001b[1;32m    238\u001b[0m     \u001b[0mplot_options\u001b[0m\u001b[0;34m[\u001b[0m\u001b[0;34m'layout'\u001b[0m\u001b[0;34m]\u001b[0m \u001b[0;34m=\u001b[0m \u001b[0mfig\u001b[0m\u001b[0;34m.\u001b[0m\u001b[0mget\u001b[0m\u001b[0;34m(\u001b[0m\u001b[0;34m'layout'\u001b[0m\u001b[0;34m,\u001b[0m \u001b[0;34m{\u001b[0m\u001b[0;34m}\u001b[0m\u001b[0;34m)\u001b[0m\u001b[0;34m\u001b[0m\u001b[0;34m\u001b[0m\u001b[0m\n\u001b[0;32m--> 239\u001b[0;31m     \u001b[0mresponse\u001b[0m \u001b[0;34m=\u001b[0m \u001b[0mv1\u001b[0m\u001b[0;34m.\u001b[0m\u001b[0mclientresp\u001b[0m\u001b[0;34m(\u001b[0m\u001b[0mdata\u001b[0m\u001b[0;34m,\u001b[0m \u001b[0;34m**\u001b[0m\u001b[0mplot_options\u001b[0m\u001b[0;34m)\u001b[0m\u001b[0;34m\u001b[0m\u001b[0;34m\u001b[0m\u001b[0m\n\u001b[0m\u001b[1;32m    240\u001b[0m \u001b[0;34m\u001b[0m\u001b[0m\n\u001b[1;32m    241\u001b[0m     \u001b[0;31m# Check if the url needs a secret key\u001b[0m\u001b[0;34m\u001b[0m\u001b[0;34m\u001b[0m\u001b[0;34m\u001b[0m\u001b[0m\n",
      "\u001b[0;32m/usr/local/lib/python3.6/dist-packages/plotly/api/v1/clientresp.py\u001b[0m in \u001b[0;36mclientresp\u001b[0;34m(data, **kwargs)\u001b[0m\n\u001b[1;32m     33\u001b[0m \u001b[0;34m\u001b[0m\u001b[0m\n\u001b[1;32m     34\u001b[0m     \u001b[0murl\u001b[0m \u001b[0;34m=\u001b[0m \u001b[0;34m'{plotly_domain}/clientresp'\u001b[0m\u001b[0;34m.\u001b[0m\u001b[0mformat\u001b[0m\u001b[0;34m(\u001b[0m\u001b[0;34m**\u001b[0m\u001b[0mcfg\u001b[0m\u001b[0;34m)\u001b[0m\u001b[0;34m\u001b[0m\u001b[0;34m\u001b[0m\u001b[0m\n\u001b[0;32m---> 35\u001b[0;31m     \u001b[0mresponse\u001b[0m \u001b[0;34m=\u001b[0m \u001b[0mrequest\u001b[0m\u001b[0;34m(\u001b[0m\u001b[0;34m'post'\u001b[0m\u001b[0;34m,\u001b[0m \u001b[0murl\u001b[0m\u001b[0;34m,\u001b[0m \u001b[0mdata\u001b[0m\u001b[0;34m=\u001b[0m\u001b[0mpayload\u001b[0m\u001b[0;34m)\u001b[0m\u001b[0;34m\u001b[0m\u001b[0;34m\u001b[0m\u001b[0m\n\u001b[0m\u001b[1;32m     36\u001b[0m \u001b[0;34m\u001b[0m\u001b[0m\n\u001b[1;32m     37\u001b[0m     \u001b[0;31m# Old functionality, just keeping it around.\u001b[0m\u001b[0;34m\u001b[0m\u001b[0;34m\u001b[0m\u001b[0;34m\u001b[0m\u001b[0m\n",
      "\u001b[0;32m/usr/local/lib/python3.6/dist-packages/retrying.py\u001b[0m in \u001b[0;36mwrapped_f\u001b[0;34m(*args, **kw)\u001b[0m\n\u001b[1;32m     47\u001b[0m             \u001b[0;34m@\u001b[0m\u001b[0msix\u001b[0m\u001b[0;34m.\u001b[0m\u001b[0mwraps\u001b[0m\u001b[0;34m(\u001b[0m\u001b[0mf\u001b[0m\u001b[0;34m)\u001b[0m\u001b[0;34m\u001b[0m\u001b[0;34m\u001b[0m\u001b[0m\n\u001b[1;32m     48\u001b[0m             \u001b[0;32mdef\u001b[0m \u001b[0mwrapped_f\u001b[0m\u001b[0;34m(\u001b[0m\u001b[0;34m*\u001b[0m\u001b[0margs\u001b[0m\u001b[0;34m,\u001b[0m \u001b[0;34m**\u001b[0m\u001b[0mkw\u001b[0m\u001b[0;34m)\u001b[0m\u001b[0;34m:\u001b[0m\u001b[0;34m\u001b[0m\u001b[0;34m\u001b[0m\u001b[0m\n\u001b[0;32m---> 49\u001b[0;31m                 \u001b[0;32mreturn\u001b[0m \u001b[0mRetrying\u001b[0m\u001b[0;34m(\u001b[0m\u001b[0;34m*\u001b[0m\u001b[0mdargs\u001b[0m\u001b[0;34m,\u001b[0m \u001b[0;34m**\u001b[0m\u001b[0mdkw\u001b[0m\u001b[0;34m)\u001b[0m\u001b[0;34m.\u001b[0m\u001b[0mcall\u001b[0m\u001b[0;34m(\u001b[0m\u001b[0mf\u001b[0m\u001b[0;34m,\u001b[0m \u001b[0;34m*\u001b[0m\u001b[0margs\u001b[0m\u001b[0;34m,\u001b[0m \u001b[0;34m**\u001b[0m\u001b[0mkw\u001b[0m\u001b[0;34m)\u001b[0m\u001b[0;34m\u001b[0m\u001b[0;34m\u001b[0m\u001b[0m\n\u001b[0m\u001b[1;32m     50\u001b[0m \u001b[0;34m\u001b[0m\u001b[0m\n\u001b[1;32m     51\u001b[0m             \u001b[0;32mreturn\u001b[0m \u001b[0mwrapped_f\u001b[0m\u001b[0;34m\u001b[0m\u001b[0;34m\u001b[0m\u001b[0m\n",
      "\u001b[0;32m/usr/local/lib/python3.6/dist-packages/retrying.py\u001b[0m in \u001b[0;36mcall\u001b[0;34m(self, fn, *args, **kwargs)\u001b[0m\n\u001b[1;32m    204\u001b[0m \u001b[0;34m\u001b[0m\u001b[0m\n\u001b[1;32m    205\u001b[0m             \u001b[0;32mif\u001b[0m \u001b[0;32mnot\u001b[0m \u001b[0mself\u001b[0m\u001b[0;34m.\u001b[0m\u001b[0mshould_reject\u001b[0m\u001b[0;34m(\u001b[0m\u001b[0mattempt\u001b[0m\u001b[0;34m)\u001b[0m\u001b[0;34m:\u001b[0m\u001b[0;34m\u001b[0m\u001b[0;34m\u001b[0m\u001b[0m\n\u001b[0;32m--> 206\u001b[0;31m                 \u001b[0;32mreturn\u001b[0m \u001b[0mattempt\u001b[0m\u001b[0;34m.\u001b[0m\u001b[0mget\u001b[0m\u001b[0;34m(\u001b[0m\u001b[0mself\u001b[0m\u001b[0;34m.\u001b[0m\u001b[0m_wrap_exception\u001b[0m\u001b[0;34m)\u001b[0m\u001b[0;34m\u001b[0m\u001b[0;34m\u001b[0m\u001b[0m\n\u001b[0m\u001b[1;32m    207\u001b[0m \u001b[0;34m\u001b[0m\u001b[0m\n\u001b[1;32m    208\u001b[0m             \u001b[0mdelay_since_first_attempt_ms\u001b[0m \u001b[0;34m=\u001b[0m \u001b[0mint\u001b[0m\u001b[0;34m(\u001b[0m\u001b[0mround\u001b[0m\u001b[0;34m(\u001b[0m\u001b[0mtime\u001b[0m\u001b[0;34m.\u001b[0m\u001b[0mtime\u001b[0m\u001b[0;34m(\u001b[0m\u001b[0;34m)\u001b[0m \u001b[0;34m*\u001b[0m \u001b[0;36m1000\u001b[0m\u001b[0;34m)\u001b[0m\u001b[0;34m)\u001b[0m \u001b[0;34m-\u001b[0m \u001b[0mstart_time\u001b[0m\u001b[0;34m\u001b[0m\u001b[0;34m\u001b[0m\u001b[0m\n",
      "\u001b[0;32m/usr/local/lib/python3.6/dist-packages/retrying.py\u001b[0m in \u001b[0;36mget\u001b[0;34m(self, wrap_exception)\u001b[0m\n\u001b[1;32m    245\u001b[0m                 \u001b[0;32mraise\u001b[0m \u001b[0mRetryError\u001b[0m\u001b[0;34m(\u001b[0m\u001b[0mself\u001b[0m\u001b[0;34m)\u001b[0m\u001b[0;34m\u001b[0m\u001b[0;34m\u001b[0m\u001b[0m\n\u001b[1;32m    246\u001b[0m             \u001b[0;32melse\u001b[0m\u001b[0;34m:\u001b[0m\u001b[0;34m\u001b[0m\u001b[0;34m\u001b[0m\u001b[0m\n\u001b[0;32m--> 247\u001b[0;31m                 \u001b[0msix\u001b[0m\u001b[0;34m.\u001b[0m\u001b[0mreraise\u001b[0m\u001b[0;34m(\u001b[0m\u001b[0mself\u001b[0m\u001b[0;34m.\u001b[0m\u001b[0mvalue\u001b[0m\u001b[0;34m[\u001b[0m\u001b[0;36m0\u001b[0m\u001b[0;34m]\u001b[0m\u001b[0;34m,\u001b[0m \u001b[0mself\u001b[0m\u001b[0;34m.\u001b[0m\u001b[0mvalue\u001b[0m\u001b[0;34m[\u001b[0m\u001b[0;36m1\u001b[0m\u001b[0;34m]\u001b[0m\u001b[0;34m,\u001b[0m \u001b[0mself\u001b[0m\u001b[0;34m.\u001b[0m\u001b[0mvalue\u001b[0m\u001b[0;34m[\u001b[0m\u001b[0;36m2\u001b[0m\u001b[0;34m]\u001b[0m\u001b[0;34m)\u001b[0m\u001b[0;34m\u001b[0m\u001b[0;34m\u001b[0m\u001b[0m\n\u001b[0m\u001b[1;32m    248\u001b[0m         \u001b[0;32melse\u001b[0m\u001b[0;34m:\u001b[0m\u001b[0;34m\u001b[0m\u001b[0;34m\u001b[0m\u001b[0m\n\u001b[1;32m    249\u001b[0m             \u001b[0;32mreturn\u001b[0m \u001b[0mself\u001b[0m\u001b[0;34m.\u001b[0m\u001b[0mvalue\u001b[0m\u001b[0;34m\u001b[0m\u001b[0;34m\u001b[0m\u001b[0m\n",
      "\u001b[0;32m/usr/local/lib/python3.6/dist-packages/six.py\u001b[0m in \u001b[0;36mreraise\u001b[0;34m(tp, value, tb)\u001b[0m\n\u001b[1;32m    691\u001b[0m             \u001b[0;32mif\u001b[0m \u001b[0mvalue\u001b[0m\u001b[0;34m.\u001b[0m\u001b[0m__traceback__\u001b[0m \u001b[0;32mis\u001b[0m \u001b[0;32mnot\u001b[0m \u001b[0mtb\u001b[0m\u001b[0;34m:\u001b[0m\u001b[0;34m\u001b[0m\u001b[0;34m\u001b[0m\u001b[0m\n\u001b[1;32m    692\u001b[0m                 \u001b[0;32mraise\u001b[0m \u001b[0mvalue\u001b[0m\u001b[0;34m.\u001b[0m\u001b[0mwith_traceback\u001b[0m\u001b[0;34m(\u001b[0m\u001b[0mtb\u001b[0m\u001b[0;34m)\u001b[0m\u001b[0;34m\u001b[0m\u001b[0;34m\u001b[0m\u001b[0m\n\u001b[0;32m--> 693\u001b[0;31m             \u001b[0;32mraise\u001b[0m \u001b[0mvalue\u001b[0m\u001b[0;34m\u001b[0m\u001b[0;34m\u001b[0m\u001b[0m\n\u001b[0m\u001b[1;32m    694\u001b[0m         \u001b[0;32mfinally\u001b[0m\u001b[0;34m:\u001b[0m\u001b[0;34m\u001b[0m\u001b[0;34m\u001b[0m\u001b[0m\n\u001b[1;32m    695\u001b[0m             \u001b[0mvalue\u001b[0m \u001b[0;34m=\u001b[0m \u001b[0;32mNone\u001b[0m\u001b[0;34m\u001b[0m\u001b[0;34m\u001b[0m\u001b[0m\n",
      "\u001b[0;32m/usr/local/lib/python3.6/dist-packages/retrying.py\u001b[0m in \u001b[0;36mcall\u001b[0;34m(self, fn, *args, **kwargs)\u001b[0m\n\u001b[1;32m    198\u001b[0m         \u001b[0;32mwhile\u001b[0m \u001b[0;32mTrue\u001b[0m\u001b[0;34m:\u001b[0m\u001b[0;34m\u001b[0m\u001b[0;34m\u001b[0m\u001b[0m\n\u001b[1;32m    199\u001b[0m             \u001b[0;32mtry\u001b[0m\u001b[0;34m:\u001b[0m\u001b[0;34m\u001b[0m\u001b[0;34m\u001b[0m\u001b[0m\n\u001b[0;32m--> 200\u001b[0;31m                 \u001b[0mattempt\u001b[0m \u001b[0;34m=\u001b[0m \u001b[0mAttempt\u001b[0m\u001b[0;34m(\u001b[0m\u001b[0mfn\u001b[0m\u001b[0;34m(\u001b[0m\u001b[0;34m*\u001b[0m\u001b[0margs\u001b[0m\u001b[0;34m,\u001b[0m \u001b[0;34m**\u001b[0m\u001b[0mkwargs\u001b[0m\u001b[0;34m)\u001b[0m\u001b[0;34m,\u001b[0m \u001b[0mattempt_number\u001b[0m\u001b[0;34m,\u001b[0m \u001b[0;32mFalse\u001b[0m\u001b[0;34m)\u001b[0m\u001b[0;34m\u001b[0m\u001b[0;34m\u001b[0m\u001b[0m\n\u001b[0m\u001b[1;32m    201\u001b[0m             \u001b[0;32mexcept\u001b[0m\u001b[0;34m:\u001b[0m\u001b[0;34m\u001b[0m\u001b[0;34m\u001b[0m\u001b[0m\n\u001b[1;32m    202\u001b[0m                 \u001b[0mtb\u001b[0m \u001b[0;34m=\u001b[0m \u001b[0msys\u001b[0m\u001b[0;34m.\u001b[0m\u001b[0mexc_info\u001b[0m\u001b[0;34m(\u001b[0m\u001b[0;34m)\u001b[0m\u001b[0;34m\u001b[0m\u001b[0;34m\u001b[0m\u001b[0m\n",
      "\u001b[0;32m/usr/local/lib/python3.6/dist-packages/plotly/api/v1/utils.py\u001b[0m in \u001b[0;36mrequest\u001b[0;34m(method, url, **kwargs)\u001b[0m\n\u001b[1;32m     88\u001b[0m         \u001b[0mcontent\u001b[0m \u001b[0;34m=\u001b[0m \u001b[0mresponse\u001b[0m\u001b[0;34m.\u001b[0m\u001b[0mcontent\u001b[0m \u001b[0;32mif\u001b[0m \u001b[0mresponse\u001b[0m \u001b[0;32melse\u001b[0m \u001b[0;34m'No content'\u001b[0m\u001b[0;34m\u001b[0m\u001b[0;34m\u001b[0m\u001b[0m\n\u001b[1;32m     89\u001b[0m         \u001b[0;32mraise\u001b[0m \u001b[0mexceptions\u001b[0m\u001b[0;34m.\u001b[0m\u001b[0mPlotlyRequestError\u001b[0m\u001b[0;34m(\u001b[0m\u001b[0mmessage\u001b[0m\u001b[0;34m,\u001b[0m \u001b[0mstatus_code\u001b[0m\u001b[0;34m,\u001b[0m \u001b[0mcontent\u001b[0m\u001b[0;34m)\u001b[0m\u001b[0;34m\u001b[0m\u001b[0;34m\u001b[0m\u001b[0m\n\u001b[0;32m---> 90\u001b[0;31m     \u001b[0mvalidate_response\u001b[0m\u001b[0;34m(\u001b[0m\u001b[0mresponse\u001b[0m\u001b[0;34m)\u001b[0m\u001b[0;34m\u001b[0m\u001b[0;34m\u001b[0m\u001b[0m\n\u001b[0m\u001b[1;32m     91\u001b[0m     \u001b[0;32mreturn\u001b[0m \u001b[0mresponse\u001b[0m\u001b[0;34m\u001b[0m\u001b[0;34m\u001b[0m\u001b[0m\n",
      "\u001b[0;32m/usr/local/lib/python3.6/dist-packages/plotly/api/v1/utils.py\u001b[0m in \u001b[0;36mvalidate_response\u001b[0;34m(response)\u001b[0m\n\u001b[1;32m     38\u001b[0m         \u001b[0mmessage\u001b[0m \u001b[0;34m=\u001b[0m \u001b[0mcontent\u001b[0m \u001b[0;32mif\u001b[0m \u001b[0mcontent\u001b[0m \u001b[0;32melse\u001b[0m \u001b[0;34m'No Content'\u001b[0m\u001b[0;34m\u001b[0m\u001b[0;34m\u001b[0m\u001b[0m\n\u001b[1;32m     39\u001b[0m \u001b[0;34m\u001b[0m\u001b[0m\n\u001b[0;32m---> 40\u001b[0;31m     \u001b[0;32mraise\u001b[0m \u001b[0mexceptions\u001b[0m\u001b[0;34m.\u001b[0m\u001b[0mPlotlyRequestError\u001b[0m\u001b[0;34m(\u001b[0m\u001b[0mmessage\u001b[0m\u001b[0;34m,\u001b[0m \u001b[0mstatus_code\u001b[0m\u001b[0;34m,\u001b[0m \u001b[0mcontent\u001b[0m\u001b[0;34m)\u001b[0m\u001b[0;34m\u001b[0m\u001b[0;34m\u001b[0m\u001b[0m\n\u001b[0m\u001b[1;32m     41\u001b[0m \u001b[0;34m\u001b[0m\u001b[0m\n\u001b[1;32m     42\u001b[0m \u001b[0;34m\u001b[0m\u001b[0m\n",
      "\u001b[0;31mPlotlyRequestError\u001b[0m: Account limit reached: Your account is limited to creating 25 charts. To continue, you can override or delete existing charts or you can upgrade your account at: https://plot.ly/products/cloud"
     ]
    }
   ],
   "source": [
    "from  plotly.offline import plot\n",
    "import plotly.graph_objs as go\n",
    "\n",
    "\n",
    "\n",
    "trace0 = go.Scatter(\n",
    "    x=[1, 2, 3, 4],\n",
    "    y=[10, 15, 13, 17]\n",
    ")\n",
    "trace1 = go.Scatter(\n",
    "    x=[1, 2, 3, 4],\n",
    "    y=[16, 5, 11, 9]\n",
    ")\n",
    "data = [trace0, trace1]\n",
    "\n",
    "py.plot(data, filename = 'basic-line', auto_open=True)"
   ]
  },
  {
   "cell_type": "code",
   "execution_count": null,
   "metadata": {
    "colab": {},
    "colab_type": "code",
    "id": "u3FAjcJHNd4l"
   },
   "outputs": [],
   "source": [
    "import plotly.plotly as py\n",
    "import plotly.graph_objs as go\n",
    "\n",
    "\n",
    "from plotly.offline import init_notebook_mode, iplot\n",
    "init_notebook_mode(connected=True)\n",
    "import plotly.graph_objs as go\n",
    "import plotly.offline as offline\n",
    "offline.init_notebook_mode()\n",
    "from plotly import tools\n",
    "import plotly.tools as tls\n",
    "from matplotlib import cm\n",
    "\n",
    "\n",
    "temp = df[\"state\"].value_counts().head(30)\n",
    "temp.iplot(kind='bar', xTitle = 'State name', yTitle = \"# of incidents\", title = 'Top States with highest number of Gun Violence')"
   ]
  },
  {
   "cell_type": "code",
   "execution_count": null,
   "metadata": {
    "colab": {},
    "colab_type": "code",
    "id": "ZAr8XWu1YIIA"
   },
   "outputs": [],
   "source": []
  },
  {
   "cell_type": "code",
   "execution_count": null,
   "metadata": {
    "colab": {},
    "colab_type": "code",
    "id": "95CyZQpWYIKr"
   },
   "outputs": [],
   "source": []
  },
  {
   "cell_type": "code",
   "execution_count": null,
   "metadata": {
    "colab": {},
    "colab_type": "code",
    "id": "qU79mXwqYIN3"
   },
   "outputs": [],
   "source": []
  },
  {
   "cell_type": "code",
   "execution_count": null,
   "metadata": {
    "colab": {},
    "colab_type": "code",
    "id": "eYd5QQk3YIb1"
   },
   "outputs": [],
   "source": []
  },
  {
   "cell_type": "code",
   "execution_count": null,
   "metadata": {
    "colab": {},
    "colab_type": "code",
    "id": "elr30ggRYIfB"
   },
   "outputs": [],
   "source": []
  },
  {
   "cell_type": "code",
   "execution_count": null,
   "metadata": {
    "colab": {},
    "colab_type": "code",
    "id": "OA1EfxTjYIh6"
   },
   "outputs": [],
   "source": []
  },
  {
   "cell_type": "code",
   "execution_count": null,
   "metadata": {
    "colab": {},
    "colab_type": "code",
    "id": "kwtmFX96YIrn"
   },
   "outputs": [],
   "source": []
  },
  {
   "cell_type": "code",
   "execution_count": null,
   "metadata": {
    "colab": {},
    "colab_type": "code",
    "id": "ib1WQwe6NdwR"
   },
   "outputs": [],
   "source": []
  },
  {
   "cell_type": "code",
   "execution_count": null,
   "metadata": {
    "colab": {},
    "colab_type": "code",
    "id": "u70tJhvMLk7-"
   },
   "outputs": [],
   "source": []
  },
  {
   "cell_type": "code",
   "execution_count": null,
   "metadata": {
    "colab": {},
    "colab_type": "code",
    "id": "et0ZKGAMxEYt"
   },
   "outputs": [],
   "source": [
    "# Import the required libraries \n",
    "import io\n",
    "\n",
    "from plotly.offline import init_notebook_mode, iplot\n",
    "from wordcloud import WordCloud, STOPWORDS\n",
    "import matplotlib.pyplot as plt\n",
    "import plotly.graph_objs as go\n",
    "from wordcloud import WordCloud\n",
    "from textblob import TextBlob \n",
    "import plotly.plotly as py\n",
    "from plotly import tools\n",
    "import seaborn as sns\n",
    "import pandas as pd\n",
    "import string, os, random\n",
    "import calendar\n",
    "from PIL import Image \n",
    "import numpy as np\n",
    "\n",
    "import folium \n",
    "from folium import plugins \n",
    "\n",
    "\n",
    "init_notebook_mode(connected=True)\n",
    "punc = string.punctuation\n",
    "from datetime import datetime\n",
    "\n",
    "\n",
    "\n",
    "df = pd.read_csv(io.BytesIO(uploaded['gun-violence-data_01-2013_03-2018.csv']))\n",
    "# Dataset is now stored in a Pandas Dataframe"
   ]
  },
  {
   "cell_type": "code",
   "execution_count": null,
   "metadata": {
    "colab": {},
    "colab_type": "code",
    "id": "rwNX98dT2iN1"
   },
   "outputs": [],
   "source": [
    "auth.authenticate_user()\n",
    "gauth = GoogleAuth()\n",
    "gauth.credentials = GoogleCredentials.get_application_default()\n",
    "drive = GoogleDrive(gauth)"
   ]
  },
  {
   "cell_type": "code",
   "execution_count": null,
   "metadata": {
    "colab": {},
    "colab_type": "code",
    "id": "SL7EhfEp4XK7"
   },
   "outputs": [],
   "source": [
    "link = \"https://drive.google.com/file/d/1QDXLAl5xjFL-ZF9Zql_Vj2JMzIK08aju/view?usp=sharing\""
   ]
  }
 ],
 "metadata": {
  "colab": {
   "name": "Grad project.ipynb",
   "provenance": [],
   "version": "0.3.2"
  },
  "kernelspec": {
   "display_name": "Python 3",
   "language": "python",
   "name": "python3"
  },
  "language_info": {
   "codemirror_mode": {
    "name": "ipython",
    "version": 3
   },
   "file_extension": ".py",
   "mimetype": "text/x-python",
   "name": "python",
   "nbconvert_exporter": "python",
   "pygments_lexer": "ipython3",
   "version": "3.7.3"
  }
 },
 "nbformat": 4,
 "nbformat_minor": 2
}
