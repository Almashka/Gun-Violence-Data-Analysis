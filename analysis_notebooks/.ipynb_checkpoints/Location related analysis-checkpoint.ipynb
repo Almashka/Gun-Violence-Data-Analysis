{
 "cells": [
  {
   "cell_type": "code",
   "execution_count": 37,
   "metadata": {
    "colab": {},
    "colab_type": "code",
    "id": "BuMXXdL5Lkos"
   },
   "outputs": [
    {
     "data": {
      "text/html": [
       "        <script type=\"text/javascript\">\n",
       "        window.PlotlyConfig = {MathJaxConfig: 'local'};\n",
       "        if (window.MathJax) {MathJax.Hub.Config({SVG: {font: \"STIX-Web\"}});}\n",
       "        if (typeof require !== 'undefined') {\n",
       "        require.undef(\"plotly\");\n",
       "        requirejs.config({\n",
       "            paths: {\n",
       "                'plotly': ['https://cdn.plot.ly/plotly-latest.min']\n",
       "            }\n",
       "        });\n",
       "        require(['plotly'], function(Plotly) {\n",
       "            window._Plotly = Plotly;\n",
       "        });\n",
       "        }\n",
       "        </script>\n",
       "        "
      ]
     },
     "metadata": {},
     "output_type": "display_data"
    }
   ],
   "source": [
    "from plotly.offline import init_notebook_mode, iplot\n",
    "from wordcloud import WordCloud, STOPWORDS\n",
    "import matplotlib.pyplot as plt\n",
    "import plotly.graph_objs as go\n",
    "from wordcloud import WordCloud\n",
    "from textblob import TextBlob \n",
    "import plotly.plotly as py\n",
    "from plotly import tools\n",
    "import seaborn as sns\n",
    "import pandas as pd\n",
    "import string, os, random\n",
    "import calendar\n",
    "from PIL import Image \n",
    "import numpy as np\n",
    "\n",
    "import folium \n",
    "from folium import plugins \n",
    "\n",
    "\n",
    "init_notebook_mode(connected=True)\n",
    "punc = string.punctuation\n",
    "from datetime import datetime"
   ]
  },
  {
   "cell_type": "code",
   "execution_count": 2,
   "metadata": {
    "colab": {
     "base_uri": "https://localhost:8080/",
     "height": 35
    },
    "colab_type": "code",
    "executionInfo": {
     "elapsed": 523,
     "status": "ok",
     "timestamp": 1554680915484,
     "user": {
      "displayName": "Nadide Pasali",
      "photoUrl": "https://lh4.googleusercontent.com/-5H-MjChVSp0/AAAAAAAAAAI/AAAAAAAAIsA/hxS2uFmBR-8/s64/photo.jpg",
      "userId": "06740983517150493646"
     },
     "user_tz": 300
    },
    "id": "Yh9kInzYLk5Q",
    "outputId": "fb49e828-fbc4-45c1-a2b1-c1871b182d49"
   },
   "outputs": [
    {
     "name": "stdout",
     "output_type": "stream",
     "text": [
      "(239678, 29)\n"
     ]
    },
    {
     "data": {
      "text/html": [
       "<div>\n",
       "<style scoped>\n",
       "    .dataframe tbody tr th:only-of-type {\n",
       "        vertical-align: middle;\n",
       "    }\n",
       "\n",
       "    .dataframe tbody tr th {\n",
       "        vertical-align: top;\n",
       "    }\n",
       "\n",
       "    .dataframe thead th {\n",
       "        text-align: right;\n",
       "    }\n",
       "</style>\n",
       "<table border=\"1\" class=\"dataframe\">\n",
       "  <thead>\n",
       "    <tr style=\"text-align: right;\">\n",
       "      <th></th>\n",
       "      <th>incident_id</th>\n",
       "      <th>date</th>\n",
       "      <th>state</th>\n",
       "      <th>city_or_county</th>\n",
       "      <th>address</th>\n",
       "      <th>n_killed</th>\n",
       "      <th>n_injured</th>\n",
       "      <th>incident_url</th>\n",
       "      <th>source_url</th>\n",
       "      <th>incident_url_fields_missing</th>\n",
       "      <th>...</th>\n",
       "      <th>participant_age</th>\n",
       "      <th>participant_age_group</th>\n",
       "      <th>participant_gender</th>\n",
       "      <th>participant_name</th>\n",
       "      <th>participant_relationship</th>\n",
       "      <th>participant_status</th>\n",
       "      <th>participant_type</th>\n",
       "      <th>sources</th>\n",
       "      <th>state_house_district</th>\n",
       "      <th>state_senate_district</th>\n",
       "    </tr>\n",
       "  </thead>\n",
       "  <tbody>\n",
       "    <tr>\n",
       "      <th>0</th>\n",
       "      <td>461105</td>\n",
       "      <td>2013-01-01</td>\n",
       "      <td>Pennsylvania</td>\n",
       "      <td>Mckeesport</td>\n",
       "      <td>1506 Versailles Avenue and Coursin Street</td>\n",
       "      <td>0</td>\n",
       "      <td>4</td>\n",
       "      <td>http://www.gunviolencearchive.org/incident/461105</td>\n",
       "      <td>http://www.post-gazette.com/local/south/2013/0...</td>\n",
       "      <td>False</td>\n",
       "      <td>...</td>\n",
       "      <td>0::20</td>\n",
       "      <td>0::Adult 18+||1::Adult 18+||2::Adult 18+||3::A...</td>\n",
       "      <td>0::Male||1::Male||3::Male||4::Female</td>\n",
       "      <td>0::Julian Sims</td>\n",
       "      <td>NaN</td>\n",
       "      <td>0::Arrested||1::Injured||2::Injured||3::Injure...</td>\n",
       "      <td>0::Victim||1::Victim||2::Victim||3::Victim||4:...</td>\n",
       "      <td>http://pittsburgh.cbslocal.com/2013/01/01/4-pe...</td>\n",
       "      <td>NaN</td>\n",
       "      <td>NaN</td>\n",
       "    </tr>\n",
       "    <tr>\n",
       "      <th>1</th>\n",
       "      <td>460726</td>\n",
       "      <td>2013-01-01</td>\n",
       "      <td>California</td>\n",
       "      <td>Hawthorne</td>\n",
       "      <td>13500 block of Cerise Avenue</td>\n",
       "      <td>1</td>\n",
       "      <td>3</td>\n",
       "      <td>http://www.gunviolencearchive.org/incident/460726</td>\n",
       "      <td>http://www.dailybulletin.com/article/zz/201301...</td>\n",
       "      <td>False</td>\n",
       "      <td>...</td>\n",
       "      <td>0::20</td>\n",
       "      <td>0::Adult 18+||1::Adult 18+||2::Adult 18+||3::A...</td>\n",
       "      <td>0::Male</td>\n",
       "      <td>0::Bernard Gillis</td>\n",
       "      <td>NaN</td>\n",
       "      <td>0::Killed||1::Injured||2::Injured||3::Injured</td>\n",
       "      <td>0::Victim||1::Victim||2::Victim||3::Victim||4:...</td>\n",
       "      <td>http://losangeles.cbslocal.com/2013/01/01/man-...</td>\n",
       "      <td>62</td>\n",
       "      <td>35</td>\n",
       "    </tr>\n",
       "    <tr>\n",
       "      <th>2</th>\n",
       "      <td>478855</td>\n",
       "      <td>2013-01-01</td>\n",
       "      <td>Ohio</td>\n",
       "      <td>Lorain</td>\n",
       "      <td>1776 East 28th Street</td>\n",
       "      <td>1</td>\n",
       "      <td>3</td>\n",
       "      <td>http://www.gunviolencearchive.org/incident/478855</td>\n",
       "      <td>http://chronicle.northcoastnow.com/2013/02/14/...</td>\n",
       "      <td>False</td>\n",
       "      <td>...</td>\n",
       "      <td>0::25||1::31||2::33||3::34||4::33</td>\n",
       "      <td>0::Adult 18+||1::Adult 18+||2::Adult 18+||3::A...</td>\n",
       "      <td>0::Male||1::Male||2::Male||3::Male||4::Male</td>\n",
       "      <td>0::Damien Bell||1::Desmen Noble||2::Herman Sea...</td>\n",
       "      <td>NaN</td>\n",
       "      <td>0::Injured, Unharmed, Arrested||1::Unharmed, A...</td>\n",
       "      <td>0::Subject-Suspect||1::Subject-Suspect||2::Vic...</td>\n",
       "      <td>http://www.morningjournal.com/general-news/201...</td>\n",
       "      <td>56</td>\n",
       "      <td>13</td>\n",
       "    </tr>\n",
       "    <tr>\n",
       "      <th>3</th>\n",
       "      <td>478925</td>\n",
       "      <td>2013-01-05</td>\n",
       "      <td>Colorado</td>\n",
       "      <td>Aurora</td>\n",
       "      <td>16000 block of East Ithaca Place</td>\n",
       "      <td>4</td>\n",
       "      <td>0</td>\n",
       "      <td>http://www.gunviolencearchive.org/incident/478925</td>\n",
       "      <td>http://www.dailydemocrat.com/20130106/aurora-s...</td>\n",
       "      <td>False</td>\n",
       "      <td>...</td>\n",
       "      <td>0::29||1::33||2::56||3::33</td>\n",
       "      <td>0::Adult 18+||1::Adult 18+||2::Adult 18+||3::A...</td>\n",
       "      <td>0::Female||1::Male||2::Male||3::Male</td>\n",
       "      <td>0::Stacie Philbrook||1::Christopher Ratliffe||...</td>\n",
       "      <td>NaN</td>\n",
       "      <td>0::Killed||1::Killed||2::Killed||3::Killed</td>\n",
       "      <td>0::Victim||1::Victim||2::Victim||3::Subject-Su...</td>\n",
       "      <td>http://denver.cbslocal.com/2013/01/06/officer-...</td>\n",
       "      <td>40</td>\n",
       "      <td>28</td>\n",
       "    </tr>\n",
       "    <tr>\n",
       "      <th>4</th>\n",
       "      <td>478959</td>\n",
       "      <td>2013-01-07</td>\n",
       "      <td>North Carolina</td>\n",
       "      <td>Greensboro</td>\n",
       "      <td>307 Mourning Dove Terrace</td>\n",
       "      <td>2</td>\n",
       "      <td>2</td>\n",
       "      <td>http://www.gunviolencearchive.org/incident/478959</td>\n",
       "      <td>http://www.journalnow.com/news/local/article_d...</td>\n",
       "      <td>False</td>\n",
       "      <td>...</td>\n",
       "      <td>0::18||1::46||2::14||3::47</td>\n",
       "      <td>0::Adult 18+||1::Adult 18+||2::Teen 12-17||3::...</td>\n",
       "      <td>0::Female||1::Male||2::Male||3::Female</td>\n",
       "      <td>0::Danielle Imani Jameison||1::Maurice Eugene ...</td>\n",
       "      <td>3::Family</td>\n",
       "      <td>0::Injured||1::Injured||2::Killed||3::Killed</td>\n",
       "      <td>0::Victim||1::Victim||2::Victim||3::Subject-Su...</td>\n",
       "      <td>http://myfox8.com/2013/01/08/update-mother-sho...</td>\n",
       "      <td>62</td>\n",
       "      <td>27</td>\n",
       "    </tr>\n",
       "  </tbody>\n",
       "</table>\n",
       "<p>5 rows × 29 columns</p>\n",
       "</div>"
      ],
      "text/plain": [
       "  incident_id        date           state city_or_county  \\\n",
       "0      461105  2013-01-01    Pennsylvania     Mckeesport   \n",
       "1      460726  2013-01-01      California      Hawthorne   \n",
       "2      478855  2013-01-01            Ohio         Lorain   \n",
       "3      478925  2013-01-05        Colorado         Aurora   \n",
       "4      478959  2013-01-07  North Carolina     Greensboro   \n",
       "\n",
       "                                     address  n_killed  n_injured  \\\n",
       "0  1506 Versailles Avenue and Coursin Street         0          4   \n",
       "1               13500 block of Cerise Avenue         1          3   \n",
       "2                      1776 East 28th Street         1          3   \n",
       "3           16000 block of East Ithaca Place         4          0   \n",
       "4                  307 Mourning Dove Terrace         2          2   \n",
       "\n",
       "                                        incident_url  \\\n",
       "0  http://www.gunviolencearchive.org/incident/461105   \n",
       "1  http://www.gunviolencearchive.org/incident/460726   \n",
       "2  http://www.gunviolencearchive.org/incident/478855   \n",
       "3  http://www.gunviolencearchive.org/incident/478925   \n",
       "4  http://www.gunviolencearchive.org/incident/478959   \n",
       "\n",
       "                                          source_url  \\\n",
       "0  http://www.post-gazette.com/local/south/2013/0...   \n",
       "1  http://www.dailybulletin.com/article/zz/201301...   \n",
       "2  http://chronicle.northcoastnow.com/2013/02/14/...   \n",
       "3  http://www.dailydemocrat.com/20130106/aurora-s...   \n",
       "4  http://www.journalnow.com/news/local/article_d...   \n",
       "\n",
       "  incident_url_fields_missing  ...                    participant_age  \\\n",
       "0                       False  ...                              0::20   \n",
       "1                       False  ...                              0::20   \n",
       "2                       False  ...  0::25||1::31||2::33||3::34||4::33   \n",
       "3                       False  ...         0::29||1::33||2::56||3::33   \n",
       "4                       False  ...         0::18||1::46||2::14||3::47   \n",
       "\n",
       "                               participant_age_group  \\\n",
       "0  0::Adult 18+||1::Adult 18+||2::Adult 18+||3::A...   \n",
       "1  0::Adult 18+||1::Adult 18+||2::Adult 18+||3::A...   \n",
       "2  0::Adult 18+||1::Adult 18+||2::Adult 18+||3::A...   \n",
       "3  0::Adult 18+||1::Adult 18+||2::Adult 18+||3::A...   \n",
       "4  0::Adult 18+||1::Adult 18+||2::Teen 12-17||3::...   \n",
       "\n",
       "                            participant_gender  \\\n",
       "0         0::Male||1::Male||3::Male||4::Female   \n",
       "1                                      0::Male   \n",
       "2  0::Male||1::Male||2::Male||3::Male||4::Male   \n",
       "3         0::Female||1::Male||2::Male||3::Male   \n",
       "4       0::Female||1::Male||2::Male||3::Female   \n",
       "\n",
       "                                    participant_name participant_relationship  \\\n",
       "0                                     0::Julian Sims                      NaN   \n",
       "1                                  0::Bernard Gillis                      NaN   \n",
       "2  0::Damien Bell||1::Desmen Noble||2::Herman Sea...                      NaN   \n",
       "3  0::Stacie Philbrook||1::Christopher Ratliffe||...                      NaN   \n",
       "4  0::Danielle Imani Jameison||1::Maurice Eugene ...                3::Family   \n",
       "\n",
       "                                  participant_status  \\\n",
       "0  0::Arrested||1::Injured||2::Injured||3::Injure...   \n",
       "1      0::Killed||1::Injured||2::Injured||3::Injured   \n",
       "2  0::Injured, Unharmed, Arrested||1::Unharmed, A...   \n",
       "3         0::Killed||1::Killed||2::Killed||3::Killed   \n",
       "4       0::Injured||1::Injured||2::Killed||3::Killed   \n",
       "\n",
       "                                    participant_type  \\\n",
       "0  0::Victim||1::Victim||2::Victim||3::Victim||4:...   \n",
       "1  0::Victim||1::Victim||2::Victim||3::Victim||4:...   \n",
       "2  0::Subject-Suspect||1::Subject-Suspect||2::Vic...   \n",
       "3  0::Victim||1::Victim||2::Victim||3::Subject-Su...   \n",
       "4  0::Victim||1::Victim||2::Victim||3::Subject-Su...   \n",
       "\n",
       "                                             sources state_house_district  \\\n",
       "0  http://pittsburgh.cbslocal.com/2013/01/01/4-pe...                  NaN   \n",
       "1  http://losangeles.cbslocal.com/2013/01/01/man-...                   62   \n",
       "2  http://www.morningjournal.com/general-news/201...                   56   \n",
       "3  http://denver.cbslocal.com/2013/01/06/officer-...                   40   \n",
       "4  http://myfox8.com/2013/01/08/update-mother-sho...                   62   \n",
       "\n",
       "  state_senate_district  \n",
       "0                   NaN  \n",
       "1                    35  \n",
       "2                    13  \n",
       "3                    28  \n",
       "4                    27  \n",
       "\n",
       "[5 rows x 29 columns]"
      ]
     },
     "execution_count": 2,
     "metadata": {},
     "output_type": "execute_result"
    }
   ],
   "source": [
    "df = pd.read_csv('../../data/gun-violence-data_01-2013_03-2018.csv')\n",
    "missing_row = ['sban_1', '2017-10-01', 'Nevada', 'Las Vegas', 'Mandalay Bay 3950 Blvd S', 59, 489, 'https://en.wikipedia.org/wiki/2017_Las_Vegas_shooting', 'https://en.wikipedia.org/wiki/2017_Las_Vegas_shooting', '-', '-', '-', '-', '-', '36.095', 'Hotel', \n",
    "               '-115.171667', 47, 'Route 91 Harvest Festiva; concert, open fire from 32nd floor. 47 guns seized; TOTAL:59 kill, 489 inj, number shot TBD,girlfriend Marilou Danley POI', '-', '-', '-', '-', '-', '-', '-', '-', '-', '-']\n",
    "df.loc[len(df)] = missing_row\n",
    "print(df.shape)\n",
    "df.head()"
   ]
  },
  {
   "cell_type": "code",
   "execution_count": 23,
   "metadata": {
    "colab": {
     "base_uri": "https://localhost:8080/",
     "height": 35
    },
    "colab_type": "code",
    "executionInfo": {
     "elapsed": 523,
     "status": "ok",
     "timestamp": 1554680915484,
     "user": {
      "displayName": "Nadide Pasali",
      "photoUrl": "https://lh4.googleusercontent.com/-5H-MjChVSp0/AAAAAAAAAAI/AAAAAAAAIsA/hxS2uFmBR-8/s64/photo.jpg",
      "userId": "06740983517150493646"
     },
     "user_tz": 300
    },
    "id": "Yh9kInzYLk5Q",
    "outputId": "fb49e828-fbc4-45c1-a2b1-c1871b182d49"
   },
   "outputs": [],
   "source": [
    "# df2 = pd.read_csv('../../data/export-5f1e2b13-f332-406a-a5d5-751b2f3e5e66.csv')\n",
    "# print(df2.shape)\n",
    "# df2.head()"
   ]
  },
  {
   "cell_type": "code",
   "execution_count": 3,
   "metadata": {
    "colab": {
     "base_uri": "https://localhost:8080/",
     "height": 629
    },
    "colab_type": "code",
    "executionInfo": {
     "elapsed": 794,
     "status": "ok",
     "timestamp": 1554680959774,
     "user": {
      "displayName": "Nadide Pasali",
      "photoUrl": "https://lh4.googleusercontent.com/-5H-MjChVSp0/AAAAAAAAAAI/AAAAAAAAIsA/hxS2uFmBR-8/s64/photo.jpg",
      "userId": "06740983517150493646"
     },
     "user_tz": 300
    },
    "id": "uRY4K6rwLlD5",
    "outputId": "9aebe09f-0e19-4b15-8dbe-a131146e7df2"
   },
   "outputs": [
    {
     "name": "stdout",
     "output_type": "stream",
     "text": [
      "<class 'pandas.core.frame.DataFrame'>\n",
      "Int64Index: 239678 entries, 0 to 239677\n",
      "Data columns (total 29 columns):\n",
      "incident_id                    239678 non-null object\n",
      "date                           239678 non-null object\n",
      "state                          239678 non-null object\n",
      "city_or_county                 239678 non-null object\n",
      "address                        223181 non-null object\n",
      "n_killed                       239678 non-null int64\n",
      "n_injured                      239678 non-null int64\n",
      "incident_url                   239678 non-null object\n",
      "source_url                     239210 non-null object\n",
      "incident_url_fields_missing    239678 non-null object\n",
      "congressional_district         227734 non-null object\n",
      "gun_stolen                     140180 non-null object\n",
      "gun_type                       140227 non-null object\n",
      "incident_characteristics       239352 non-null object\n",
      "latitude                       231755 non-null object\n",
      "location_description           42090 non-null object\n",
      "longitude                      231755 non-null object\n",
      "n_guns_involved                140227 non-null float64\n",
      "notes                          158661 non-null object\n",
      "participant_age                147380 non-null object\n",
      "participant_age_group          197559 non-null object\n",
      "participant_gender             203316 non-null object\n",
      "participant_name               117425 non-null object\n",
      "participant_relationship       15775 non-null object\n",
      "participant_status             212052 non-null object\n",
      "participant_type               214815 non-null object\n",
      "sources                        239069 non-null object\n",
      "state_house_district           200906 non-null object\n",
      "state_senate_district          207343 non-null object\n",
      "dtypes: float64(1), int64(2), object(26)\n",
      "memory usage: 54.9+ MB\n"
     ]
    }
   ],
   "source": [
    "df.info()"
   ]
  },
  {
   "cell_type": "code",
   "execution_count": 4,
   "metadata": {
    "colab": {
     "base_uri": "https://localhost:8080/",
     "height": 297
    },
    "colab_type": "code",
    "executionInfo": {
     "elapsed": 488,
     "status": "ok",
     "timestamp": 1554680940139,
     "user": {
      "displayName": "Nadide Pasali",
      "photoUrl": "https://lh4.googleusercontent.com/-5H-MjChVSp0/AAAAAAAAAAI/AAAAAAAAIsA/hxS2uFmBR-8/s64/photo.jpg",
      "userId": "06740983517150493646"
     },
     "user_tz": 300
    },
    "id": "ZncFdg92LlBM",
    "outputId": "f9675ead-cff0-4895-f93a-b1ee7856c110"
   },
   "outputs": [
    {
     "data": {
      "text/html": [
       "<div>\n",
       "<style scoped>\n",
       "    .dataframe tbody tr th:only-of-type {\n",
       "        vertical-align: middle;\n",
       "    }\n",
       "\n",
       "    .dataframe tbody tr th {\n",
       "        vertical-align: top;\n",
       "    }\n",
       "\n",
       "    .dataframe thead th {\n",
       "        text-align: right;\n",
       "    }\n",
       "</style>\n",
       "<table border=\"1\" class=\"dataframe\">\n",
       "  <thead>\n",
       "    <tr style=\"text-align: right;\">\n",
       "      <th></th>\n",
       "      <th>n_killed</th>\n",
       "      <th>n_injured</th>\n",
       "      <th>n_guns_involved</th>\n",
       "    </tr>\n",
       "  </thead>\n",
       "  <tbody>\n",
       "    <tr>\n",
       "      <th>count</th>\n",
       "      <td>239678.000000</td>\n",
       "      <td>239678.000000</td>\n",
       "      <td>140227.000000</td>\n",
       "    </tr>\n",
       "    <tr>\n",
       "      <th>mean</th>\n",
       "      <td>0.252535</td>\n",
       "      <td>0.496045</td>\n",
       "      <td>1.372767</td>\n",
       "    </tr>\n",
       "    <tr>\n",
       "      <th>std</th>\n",
       "      <td>0.535399</td>\n",
       "      <td>1.236321</td>\n",
       "      <td>4.679772</td>\n",
       "    </tr>\n",
       "    <tr>\n",
       "      <th>min</th>\n",
       "      <td>0.000000</td>\n",
       "      <td>0.000000</td>\n",
       "      <td>1.000000</td>\n",
       "    </tr>\n",
       "    <tr>\n",
       "      <th>25%</th>\n",
       "      <td>0.000000</td>\n",
       "      <td>0.000000</td>\n",
       "      <td>1.000000</td>\n",
       "    </tr>\n",
       "    <tr>\n",
       "      <th>50%</th>\n",
       "      <td>0.000000</td>\n",
       "      <td>0.000000</td>\n",
       "      <td>1.000000</td>\n",
       "    </tr>\n",
       "    <tr>\n",
       "      <th>75%</th>\n",
       "      <td>0.000000</td>\n",
       "      <td>1.000000</td>\n",
       "      <td>1.000000</td>\n",
       "    </tr>\n",
       "    <tr>\n",
       "      <th>max</th>\n",
       "      <td>59.000000</td>\n",
       "      <td>489.000000</td>\n",
       "      <td>400.000000</td>\n",
       "    </tr>\n",
       "  </tbody>\n",
       "</table>\n",
       "</div>"
      ],
      "text/plain": [
       "            n_killed      n_injured  n_guns_involved\n",
       "count  239678.000000  239678.000000    140227.000000\n",
       "mean        0.252535       0.496045         1.372767\n",
       "std         0.535399       1.236321         4.679772\n",
       "min         0.000000       0.000000         1.000000\n",
       "25%         0.000000       0.000000         1.000000\n",
       "50%         0.000000       0.000000         1.000000\n",
       "75%         0.000000       1.000000         1.000000\n",
       "max        59.000000     489.000000       400.000000"
      ]
     },
     "execution_count": 4,
     "metadata": {},
     "output_type": "execute_result"
    }
   ],
   "source": [
    "df.describe()"
   ]
  },
  {
   "cell_type": "code",
   "execution_count": 5,
   "metadata": {
    "colab": {
     "base_uri": "https://localhost:8080/",
     "height": 215
    },
    "colab_type": "code",
    "executionInfo": {
     "elapsed": 409,
     "status": "ok",
     "timestamp": 1554681044992,
     "user": {
      "displayName": "Nadide Pasali",
      "photoUrl": "https://lh4.googleusercontent.com/-5H-MjChVSp0/AAAAAAAAAAI/AAAAAAAAIsA/hxS2uFmBR-8/s64/photo.jpg",
      "userId": "06740983517150493646"
     },
     "user_tz": 300
    },
    "id": "P-i936SoLlHG",
    "outputId": "115864c1-3e47-4956-df5f-4ccf5af76859"
   },
   "outputs": [
    {
     "data": {
      "text/plain": [
       "array(['Pennsylvania', 'California', 'Ohio', 'Colorado', 'North Carolina',\n",
       "       'Oklahoma', 'New Mexico', 'Louisiana', 'Maryland', 'Tennessee',\n",
       "       'Missouri', 'District of Columbia', 'Illinois', 'Delaware', 'Utah',\n",
       "       'Michigan', 'Georgia', 'Indiana', 'Mississippi', 'New York',\n",
       "       'Florida', 'Washington', 'South Carolina', 'Arizona', 'Kentucky',\n",
       "       'New Jersey', 'Virginia', 'Wisconsin', 'Rhode Island', 'Texas',\n",
       "       'Alabama', 'Kansas', 'Connecticut', 'West Virginia', 'Minnesota',\n",
       "       'Nevada', 'Nebraska', 'Massachusetts', 'Hawaii', 'New Hampshire',\n",
       "       'Iowa', 'Alaska', 'Arkansas', 'Idaho', 'Oregon', 'Wyoming',\n",
       "       'Maine', 'North Dakota', 'Montana', 'Vermont', 'South Dakota'],\n",
       "      dtype=object)"
      ]
     },
     "execution_count": 5,
     "metadata": {},
     "output_type": "execute_result"
    }
   ],
   "source": [
    "df['state'].unique()"
   ]
  },
  {
   "cell_type": "code",
   "execution_count": 6,
   "metadata": {
    "colab": {
     "base_uri": "https://localhost:8080/",
     "height": 953
    },
    "colab_type": "code",
    "executionInfo": {
     "elapsed": 509,
     "status": "ok",
     "timestamp": 1554681077919,
     "user": {
      "displayName": "Nadide Pasali",
      "photoUrl": "https://lh4.googleusercontent.com/-5H-MjChVSp0/AAAAAAAAAAI/AAAAAAAAIsA/hxS2uFmBR-8/s64/photo.jpg",
      "userId": "06740983517150493646"
     },
     "user_tz": 300
    },
    "id": "kJ3BFPx8Ndq8",
    "outputId": "2e105c79-08d8-42c2-8d8e-16574b40decc"
   },
   "outputs": [
    {
     "data": {
      "text/plain": [
       "Illinois                17556\n",
       "California              16306\n",
       "Florida                 15029\n",
       "Texas                   13577\n",
       "Ohio                    10244\n",
       "New York                 9712\n",
       "Pennsylvania             8929\n",
       "Georgia                  8925\n",
       "North Carolina           8739\n",
       "Louisiana                8103\n",
       "Tennessee                7626\n",
       "South Carolina           6939\n",
       "Missouri                 6631\n",
       "Michigan                 6136\n",
       "Massachusetts            5981\n",
       "Virginia                 5949\n",
       "Indiana                  5852\n",
       "Maryland                 5798\n",
       "Alabama                  5471\n",
       "New Jersey               5387\n",
       "Wisconsin                4787\n",
       "Kentucky                 4157\n",
       "Mississippi              3599\n",
       "Oklahoma                 3455\n",
       "Washington               3434\n",
       "Colorado                 3201\n",
       "District of Columbia     3195\n",
       "Connecticut              3067\n",
       "Arkansas                 2842\n",
       "Iowa                     2517\n",
       "Minnesota                2408\n",
       "Arizona                  2328\n",
       "Oregon                   2286\n",
       "Kansas                   2145\n",
       "Nevada                   1953\n",
       "Delaware                 1685\n",
       "Nebraska                 1651\n",
       "New Mexico               1645\n",
       "West Virginia            1575\n",
       "Alaska                   1349\n",
       "Utah                     1072\n",
       "New Hampshire             964\n",
       "Maine                     907\n",
       "Rhode Island              895\n",
       "Idaho                     661\n",
       "Montana                   638\n",
       "North Dakota              573\n",
       "South Dakota              544\n",
       "Wyoming                   494\n",
       "Vermont                   472\n",
       "Hawaii                    289\n",
       "Name: state, dtype: int64"
      ]
     },
     "execution_count": 6,
     "metadata": {},
     "output_type": "execute_result"
    }
   ],
   "source": [
    "df['state'].value_counts()"
   ]
  },
  {
   "cell_type": "code",
   "execution_count": 7,
   "metadata": {
    "colab": {
     "base_uri": "https://localhost:8080/",
     "height": 542
    },
    "colab_type": "code",
    "executionInfo": {
     "elapsed": 655,
     "status": "ok",
     "timestamp": 1554681443951,
     "user": {
      "displayName": "Nadide Pasali",
      "photoUrl": "https://lh4.googleusercontent.com/-5H-MjChVSp0/AAAAAAAAAAI/AAAAAAAAIsA/hxS2uFmBR-8/s64/photo.jpg",
      "userId": "06740983517150493646"
     },
     "user_tz": 300
    },
    "id": "ucnzjD5ENdte",
    "outputId": "302cdbe6-e4fd-4a77-adfb-add09b532f24"
   },
   "outputs": [],
   "source": [
    "# df.drop([\n",
    "#     \"incident_id\",\n",
    "#     \"incident_url\",\n",
    "#     \"sources\",\n",
    "#     \"source_url\",\n",
    "#     \"incident_url_fields_missing\",\n",
    "#     \"location_description\",\n",
    "#     \"participant_relationship\",\n",
    "#     ], axis=1, inplace=True)\n",
    "\n",
    "# ##Converting object datatype to datetime\n",
    "# df[\"date\"] = pd.to_datetime(df[\"date\"])\n",
    "\n",
    "# ## To create column-day,month,year,weekday ,week and quarter.\n",
    "# df[\"day\"] = df[\"date\"].dt.day\n",
    "# df[\"month\"] = df[\"date\"].dt.month\n",
    "# df[\"year\"] = df[\"date\"].dt.year\n",
    "# df[\"weekday\"] = df[\"date\"].dt.weekday\n",
    "# df[\"week\"] = df[\"date\"].dt.week\n",
    "# df[\"quarter\"] = df[\"date\"].dt.quarter\n",
    "\n",
    "# df.head()"
   ]
  },
  {
   "cell_type": "code",
   "execution_count": 8,
   "metadata": {
    "colab": {
     "base_uri": "https://localhost:8080/",
     "height": 917
    },
    "colab_type": "code",
    "executionInfo": {
     "elapsed": 1355,
     "status": "ok",
     "timestamp": 1554681677872,
     "user": {
      "displayName": "Nadide Pasali",
      "photoUrl": "https://lh4.googleusercontent.com/-5H-MjChVSp0/AAAAAAAAAAI/AAAAAAAAIsA/hxS2uFmBR-8/s64/photo.jpg",
      "userId": "06740983517150493646"
     },
     "user_tz": 300
    },
    "id": "97BCQ1VMNdyZ",
    "outputId": "bfcddbf9-f6ac-4422-9e18-1056182790b6"
   },
   "outputs": [
    {
     "data": {
      "text/html": [
       "<div>\n",
       "<style scoped>\n",
       "    .dataframe tbody tr th:only-of-type {\n",
       "        vertical-align: middle;\n",
       "    }\n",
       "\n",
       "    .dataframe tbody tr th {\n",
       "        vertical-align: top;\n",
       "    }\n",
       "\n",
       "    .dataframe thead th {\n",
       "        text-align: right;\n",
       "    }\n",
       "</style>\n",
       "<table border=\"1\" class=\"dataframe\">\n",
       "  <thead>\n",
       "    <tr style=\"text-align: right;\">\n",
       "      <th></th>\n",
       "      <th>Total</th>\n",
       "      <th>Percent</th>\n",
       "    </tr>\n",
       "  </thead>\n",
       "  <tbody>\n",
       "    <tr>\n",
       "      <th>participant_relationship</th>\n",
       "      <td>223903</td>\n",
       "      <td>93.418253</td>\n",
       "    </tr>\n",
       "    <tr>\n",
       "      <th>location_description</th>\n",
       "      <td>197588</td>\n",
       "      <td>82.438939</td>\n",
       "    </tr>\n",
       "    <tr>\n",
       "      <th>participant_name</th>\n",
       "      <td>122253</td>\n",
       "      <td>51.007185</td>\n",
       "    </tr>\n",
       "    <tr>\n",
       "      <th>gun_stolen</th>\n",
       "      <td>99498</td>\n",
       "      <td>41.513197</td>\n",
       "    </tr>\n",
       "    <tr>\n",
       "      <th>gun_type</th>\n",
       "      <td>99451</td>\n",
       "      <td>41.493587</td>\n",
       "    </tr>\n",
       "    <tr>\n",
       "      <th>n_guns_involved</th>\n",
       "      <td>99451</td>\n",
       "      <td>41.493587</td>\n",
       "    </tr>\n",
       "    <tr>\n",
       "      <th>participant_age</th>\n",
       "      <td>92298</td>\n",
       "      <td>38.509166</td>\n",
       "    </tr>\n",
       "    <tr>\n",
       "      <th>notes</th>\n",
       "      <td>81017</td>\n",
       "      <td>33.802435</td>\n",
       "    </tr>\n",
       "    <tr>\n",
       "      <th>participant_age_group</th>\n",
       "      <td>42119</td>\n",
       "      <td>17.573161</td>\n",
       "    </tr>\n",
       "    <tr>\n",
       "      <th>state_house_district</th>\n",
       "      <td>38772</td>\n",
       "      <td>16.176704</td>\n",
       "    </tr>\n",
       "    <tr>\n",
       "      <th>participant_gender</th>\n",
       "      <td>36362</td>\n",
       "      <td>15.171188</td>\n",
       "    </tr>\n",
       "    <tr>\n",
       "      <th>state_senate_district</th>\n",
       "      <td>32335</td>\n",
       "      <td>13.491017</td>\n",
       "    </tr>\n",
       "    <tr>\n",
       "      <th>participant_status</th>\n",
       "      <td>27626</td>\n",
       "      <td>11.526298</td>\n",
       "    </tr>\n",
       "    <tr>\n",
       "      <th>participant_type</th>\n",
       "      <td>24863</td>\n",
       "      <td>10.373501</td>\n",
       "    </tr>\n",
       "    <tr>\n",
       "      <th>address</th>\n",
       "      <td>16497</td>\n",
       "      <td>6.882985</td>\n",
       "    </tr>\n",
       "    <tr>\n",
       "      <th>congressional_district</th>\n",
       "      <td>11944</td>\n",
       "      <td>4.983353</td>\n",
       "    </tr>\n",
       "    <tr>\n",
       "      <th>latitude</th>\n",
       "      <td>7923</td>\n",
       "      <td>3.305685</td>\n",
       "    </tr>\n",
       "    <tr>\n",
       "      <th>longitude</th>\n",
       "      <td>7923</td>\n",
       "      <td>3.305685</td>\n",
       "    </tr>\n",
       "    <tr>\n",
       "      <th>sources</th>\n",
       "      <td>609</td>\n",
       "      <td>0.254091</td>\n",
       "    </tr>\n",
       "    <tr>\n",
       "      <th>source_url</th>\n",
       "      <td>468</td>\n",
       "      <td>0.195262</td>\n",
       "    </tr>\n",
       "    <tr>\n",
       "      <th>incident_characteristics</th>\n",
       "      <td>326</td>\n",
       "      <td>0.136016</td>\n",
       "    </tr>\n",
       "    <tr>\n",
       "      <th>incident_url_fields_missing</th>\n",
       "      <td>0</td>\n",
       "      <td>0.000000</td>\n",
       "    </tr>\n",
       "    <tr>\n",
       "      <th>incident_url</th>\n",
       "      <td>0</td>\n",
       "      <td>0.000000</td>\n",
       "    </tr>\n",
       "    <tr>\n",
       "      <th>n_injured</th>\n",
       "      <td>0</td>\n",
       "      <td>0.000000</td>\n",
       "    </tr>\n",
       "    <tr>\n",
       "      <th>n_killed</th>\n",
       "      <td>0</td>\n",
       "      <td>0.000000</td>\n",
       "    </tr>\n",
       "    <tr>\n",
       "      <th>city_or_county</th>\n",
       "      <td>0</td>\n",
       "      <td>0.000000</td>\n",
       "    </tr>\n",
       "    <tr>\n",
       "      <th>state</th>\n",
       "      <td>0</td>\n",
       "      <td>0.000000</td>\n",
       "    </tr>\n",
       "    <tr>\n",
       "      <th>date</th>\n",
       "      <td>0</td>\n",
       "      <td>0.000000</td>\n",
       "    </tr>\n",
       "    <tr>\n",
       "      <th>incident_id</th>\n",
       "      <td>0</td>\n",
       "      <td>0.000000</td>\n",
       "    </tr>\n",
       "  </tbody>\n",
       "</table>\n",
       "</div>"
      ],
      "text/plain": [
       "                              Total    Percent\n",
       "participant_relationship     223903  93.418253\n",
       "location_description         197588  82.438939\n",
       "participant_name             122253  51.007185\n",
       "gun_stolen                    99498  41.513197\n",
       "gun_type                      99451  41.493587\n",
       "n_guns_involved               99451  41.493587\n",
       "participant_age               92298  38.509166\n",
       "notes                         81017  33.802435\n",
       "participant_age_group         42119  17.573161\n",
       "state_house_district          38772  16.176704\n",
       "participant_gender            36362  15.171188\n",
       "state_senate_district         32335  13.491017\n",
       "participant_status            27626  11.526298\n",
       "participant_type              24863  10.373501\n",
       "address                       16497   6.882985\n",
       "congressional_district        11944   4.983353\n",
       "latitude                       7923   3.305685\n",
       "longitude                      7923   3.305685\n",
       "sources                         609   0.254091\n",
       "source_url                      468   0.195262\n",
       "incident_characteristics        326   0.136016\n",
       "incident_url_fields_missing       0   0.000000\n",
       "incident_url                      0   0.000000\n",
       "n_injured                         0   0.000000\n",
       "n_killed                          0   0.000000\n",
       "city_or_county                    0   0.000000\n",
       "state                             0   0.000000\n",
       "date                              0   0.000000\n",
       "incident_id                       0   0.000000"
      ]
     },
     "execution_count": 8,
     "metadata": {},
     "output_type": "execute_result"
    }
   ],
   "source": [
    "# checking missing data\n",
    "total = df.isnull().sum().sort_values(ascending = False)\n",
    "percent = (df.isnull().sum()/df.isnull().count()*100).sort_values(ascending = False)\n",
    "missing_gun_data  = pd.concat([total, percent], axis=1, keys=['Total', 'Percent'])\n",
    "missing_gun_data"
   ]
  },
  {
   "cell_type": "markdown",
   "metadata": {
    "colab_type": "text",
    "id": "PTCX4sjLQxv0"
   },
   "source": [
    " # Top States with highest number of Gun Violence¶"
   ]
  },
  {
   "cell_type": "code",
   "execution_count": 14,
   "metadata": {
    "colab": {
     "base_uri": "https://localhost:8080/",
     "height": 461
    },
    "colab_type": "code",
    "executionInfo": {
     "elapsed": 1017,
     "status": "ok",
     "timestamp": 1554683998080,
     "user": {
      "displayName": "Nadide Pasali",
      "photoUrl": "https://lh4.googleusercontent.com/-5H-MjChVSp0/AAAAAAAAAAI/AAAAAAAAIsA/hxS2uFmBR-8/s64/photo.jpg",
      "userId": "06740983517150493646"
     },
     "user_tz": 300
    },
    "id": "n8wrOS8SNd7z",
    "outputId": "e3e81809-26af-4651-abf0-e958db3ddae0"
   },
   "outputs": [
    {
     "data": {
      "text/plain": [
       "Text(0.5, 1.0, 'State Vs Crime Rate')"
      ]
     },
     "execution_count": 14,
     "metadata": {},
     "output_type": "execute_result"
    },
    {
     "data": {
      "image/png": "[encoded data removed]",
      "text/plain": [
       "<Figure size 432x288 with 1 Axes>"
      ]
     },
     "metadata": {
      "needs_background": "light"
     },
     "output_type": "display_data"
    }
   ],
   "source": [
    "state_vs_crimecount=sns.countplot(x=df[\"state\"],data=df,order=df[\"state\"].head(30).value_counts().index)\n",
    "state_vs_crimecount.set_xticklabels(state_vs_crimecount.get_xticklabels(),rotation=90)\n",
    "state_vs_crimecount.set_title(\"State Vs Crime Rate\")"
   ]
  },
  {
   "cell_type": "code",
   "execution_count": 10,
   "metadata": {
    "colab": {},
    "colab_type": "code",
    "id": "51EQsKhfh3F5"
   },
   "outputs": [
    {
     "data": {
      "text/plain": [
       "Text(0.5, 1.0, 'Top 10 High Crime Rate Cities')"
      ]
     },
     "execution_count": 10,
     "metadata": {},
     "output_type": "execute_result"
    },
    {
     "data": {
      "image/png": "[encoded data removed]",
      "text/plain": [
       "<Figure size 432x288 with 1 Axes>"
      ]
     },
     "metadata": {
      "needs_background": "light"
     },
     "output_type": "display_data"
    }
   ],
   "source": [
    "city_vs_crimerate=df['city_or_county'].value_counts().head(10)\n",
    "city_vs_crimerate=sns.barplot(x=city_vs_crimerate.index,y=city_vs_crimerate)\n",
    "city_vs_crimerate.set_xticklabels(city_vs_crimerate.get_xticklabels(),rotation=45)\n",
    "city_vs_crimerate.set_title(\"Top 10 High Crime Rate Cities\")"
   ]
  },
  {
   "cell_type": "code",
   "execution_count": 31,
   "metadata": {
    "colab": {},
    "colab_type": "code",
    "id": "qU79mXwqYIN3"
   },
   "outputs": [
    {
     "data": {
      "text/plain": [
       "array([ nan,   2.,   1.,   4.,   3.,   6.,  25.,  30.,   7.,  46., 151.,\n",
       "        13.,  32.,  22.,  12.,  21.,   5.,  15.,   8.,  17.,  29.,  47.,\n",
       "        42.,  73.,  50.,  39., 138., 280.,   9.,  20.,  36.,  10.,  34.,\n",
       "        18.,  44.,  52.,  16.,  14.,  23.,  27.,  38.,  28.,  84.,  19.,\n",
       "        82.,  11., 100.,  26.,  91.,  45., 111.,  53.,  24., 400., 346.,\n",
       "       152.,  41., 103.,  48.,  55., 107.,  35.,  49., 170., 338., 183.,\n",
       "        70.,  62.,  76.,  98.,  81.,  33., 374., 158., 189.,  85.,  40.,\n",
       "        43.,  96.,  68., 300.,  97., 112.,  60.,  89., 323.,  90., 145.,\n",
       "       114., 225., 130., 399., 115.,  83.,  59., 268.,  72.,  37.,  80.,\n",
       "       191.,  66.,  31.,  99.,  67., 200., 276., 127.])"
      ]
     },
     "execution_count": 31,
     "metadata": {},
     "output_type": "execute_result"
    }
   ],
   "source": [
    "df[\"n_guns_involved\"].unique()\n",
    "    "
   ]
  },
  {
   "cell_type": "code",
   "execution_count": 35,
   "metadata": {
    "colab": {},
    "colab_type": "code",
    "id": "eYd5QQk3YIb1"
   },
   "outputs": [
    {
     "data": {
      "text/plain": [
       "n_guns_involved\n",
       "1.0      127548\n",
       "2.0        7477\n",
       "3.0        2021\n",
       "4.0         871\n",
       "5.0         435\n",
       "6.0         285\n",
       "7.0         232\n",
       "8.0         137\n",
       "9.0         111\n",
       "10.0        103\n",
       "11.0         67\n",
       "12.0         93\n",
       "13.0         67\n",
       "14.0         53\n",
       "15.0         54\n",
       "16.0         41\n",
       "17.0         56\n",
       "18.0         34\n",
       "19.0         25\n",
       "20.0         48\n",
       "21.0         25\n",
       "22.0         31\n",
       "23.0         22\n",
       "24.0         18\n",
       "25.0         31\n",
       "26.0         17\n",
       "27.0         21\n",
       "28.0         14\n",
       "29.0         11\n",
       "30.0         36\n",
       "          ...  \n",
       "100.0         5\n",
       "103.0         1\n",
       "107.0         1\n",
       "111.0         1\n",
       "112.0         1\n",
       "114.0         1\n",
       "115.0         1\n",
       "127.0         1\n",
       "130.0         1\n",
       "138.0         3\n",
       "145.0         1\n",
       "151.0         1\n",
       "152.0         1\n",
       "158.0         1\n",
       "170.0         1\n",
       "183.0         1\n",
       "189.0         1\n",
       "191.0         1\n",
       "200.0         2\n",
       "225.0         1\n",
       "268.0         1\n",
       "276.0         1\n",
       "280.0         1\n",
       "300.0         3\n",
       "323.0         1\n",
       "338.0         1\n",
       "346.0         1\n",
       "374.0         1\n",
       "399.0         1\n",
       "400.0         4\n",
       "Name: incident_id, Length: 106, dtype: int64"
      ]
     },
     "execution_count": 35,
     "metadata": {},
     "output_type": "execute_result"
    }
   ],
   "source": [
    "df.groupby(\"n_guns_involved\")[\"incident_id\"].nunique()"
   ]
  },
  {
   "cell_type": "code",
   "execution_count": 69,
   "metadata": {
    "colab": {},
    "colab_type": "code",
    "id": "elr30ggRYIfB"
   },
   "outputs": [
    {
     "data": {
      "application/vnd.plotly.v1+json": {
       "config": {
        "linkText": "Export to plot.ly",
        "plotlyServerURL": "https://plot.ly",
        "showLink": false
       },
       "data": [
        {
         "hole": 0.55,
         "hoverinfo": "label+percent+name",
         "labels": [
          "2.0",
          "3.0",
          "10+",
          "4.0",
          "5.0",
          "6.0",
          "7.0",
          "8.0",
          "9.0"
         ],
         "marker": {
          "colors": [
           "#FEBFB3",
           "#E1396C",
           "#96D38C",
           "#D0F9B1",
           "#c0d1ed",
           "#efaceb",
           "#f5f794",
           "#94f794",
           "#fcc771"
          ]
         },
         "name": "Gun Number",
         "type": "pie",
         "uid": "2d798c8b-de26-441b-9d53-32495727dd9d",
         "values": [
          7477,
          2021,
          1110,
          871,
          435,
          285,
          232,
          137,
          111
         ]
        }
       ],
       "layout": {
        "annotations": [
         {
          "font": {
           "size": 15
          },
          "showarrow": false,
          "text": "Number of Gun"
         }
        ],
        "showlegend": true,
        "title": {
         "text": "Number of Gun Involved"
        }
       }
      },
      "text/html": [
       "<div>\n",
       "        \n",
       "        \n",
       "            <div id=\"228edce4-791f-42ac-b776-f85daed2e404\" class=\"plotly-graph-div\" style=\"height:525px; width:100%;\"></div>\n",
       "            <script type=\"text/javascript\">\n",
       "                require([\"plotly\"], function(Plotly) {\n",
       "                    window.PLOTLYENV=window.PLOTLYENV || {};\n",
       "                    window.PLOTLYENV.BASE_URL='https://plot.ly';\n",
       "                    \n",
       "                if (document.getElementById(\"228edce4-791f-42ac-b776-f85daed2e404\")) {\n",
       "                    Plotly.newPlot(\n",
       "                        '228edce4-791f-42ac-b776-f85daed2e404',\n",
       "                        [{\"hole\": 0.55, \"hoverinfo\": \"label+percent+name\", \"labels\": [\"2.0\", \"3.0\", \"10+\", \"4.0\", \"5.0\", \"6.0\", \"7.0\", \"8.0\", \"9.0\"], \"marker\": {\"colors\": [\"#FEBFB3\", \"#E1396C\", \"#96D38C\", \"#D0F9B1\", \"#c0d1ed\", \"#efaceb\", \"#f5f794\", \"#94f794\", \"#fcc771\"]}, \"name\": \"Gun Number\", \"type\": \"pie\", \"uid\": \"2d798c8b-de26-441b-9d53-32495727dd9d\", \"values\": [7477, 2021, 1110, 871, 435, 285, 232, 137, 111]}],\n",
       "                        {\"annotations\": [{\"font\": {\"size\": 15}, \"showarrow\": false, \"text\": \"Number of Gun\"}], \"showlegend\": true, \"title\": {\"text\": \"Number of Gun Involved\"}},\n",
       "                        {\"showLink\": false, \"linkText\": \"Export to plot.ly\", \"plotlyServerURL\": \"https://plot.ly\", \"responsive\": true}\n",
       "                    ).then(function(){\n",
       "                            \n",
       "var gd = document.getElementById('228edce4-791f-42ac-b776-f85daed2e404');\n",
       "var x = new MutationObserver(function (mutations, observer) {{\n",
       "        var display = window.getComputedStyle(gd).display;\n",
       "        if (!display || display === 'none') {{\n",
       "            console.log([gd, 'removed!']);\n",
       "            Plotly.purge(gd);\n",
       "            observer.disconnect();\n",
       "        }}\n",
       "}});\n",
       "\n",
       "// Listen for the removal of the full notebook cells\n",
       "var notebookContainer = gd.closest('#notebook-container');\n",
       "if (notebookContainer) {{\n",
       "    x.observe(notebookContainer, {childList: true});\n",
       "}}\n",
       "\n",
       "// Listen for the clearing of the current output cell\n",
       "var outputEl = gd.closest('.output');\n",
       "if (outputEl) {{\n",
       "    x.observe(outputEl, {childList: true});\n",
       "}}\n",
       "\n",
       "                        })\n",
       "                };\n",
       "                });\n",
       "            </script>\n",
       "        </div>"
      ]
     },
     "metadata": {},
     "output_type": "display_data"
    }
   ],
   "source": [
    "df['n_guns'] = df['n_guns_involved'].apply(lambda x : \"10+\" if x>=10 else str(x))\n",
    "\n",
    "tempdf = df['n_guns'].value_counts().reset_index()\n",
    "tempdf = tempdf[tempdf['index'] != 'nan']\n",
    "tempdf = tempdf[tempdf['index'] != '1.0']\n",
    "\n",
    "labels = list(tempdf['index'])\n",
    "values = list(tempdf['n_guns'])\n",
    "\n",
    "fig = {\n",
    "  \"data\": [\n",
    "    {\n",
    "      \"values\": list(values),\n",
    "      \"labels\": list(labels),\n",
    "      \"marker\" : dict(colors=['#FEBFB3', '#E1396C', '#96D38C', '#D0F9B1', '#c0d1ed', '#efaceb', '#f5f794', '#94f794', '#fcc771']),\n",
    "      \"name\": \"Gun Number\",\n",
    "      \"hoverinfo\":\"label+percent+name\",\n",
    "      \"hole\": .55,\n",
    "      \"type\": \"pie\"\n",
    "    }],\n",
    "  \"layout\": {\n",
    "          \"showlegend\" : True,\n",
    "        \"title\":\"Number of Gun Involved\",\n",
    "        \"annotations\": [\n",
    "            {\n",
    "                \"font\": {\n",
    "                    \"size\": 15\n",
    "                },\n",
    "                \"showarrow\": False,\n",
    "                \"text\": \"Number of Gun\"\n",
    "            }\n",
    "        ]\n",
    "    }\n",
    "}\n",
    "iplot(fig, filename='donut')\n"
   ]
  },
  {
   "cell_type": "code",
   "execution_count": 83,
   "metadata": {
    "colab": {},
    "colab_type": "code",
    "id": "kwtmFX96YIrn"
   },
   "outputs": [],
   "source": [
    "def get_user_mapping(txt):\n",
    "    if txt == \"NA\":\n",
    "        return {}\n",
    "    mapping = {}\n",
    "    for d in txt.split(\"||\"):\n",
    "        try:\n",
    "            key = d.split(\"::\")[0]\n",
    "            val = d.split(\"::\")[1]\n",
    "            if key not in mapping:\n",
    "                mapping[key] = val\n",
    "        except:\n",
    "            pass\n",
    "    return mapping\n",
    "\n",
    "df['participant_type'] = df['participant_type'].fillna(\"NA\")\n",
    "df['participant_type_map'] = df['participant_type'].apply(lambda x : get_user_mapping(x))\n",
    "df['participant_age'] = df['participant_age'].fillna(\"NA\")\n",
    "df['participant_age_map'] = df['participant_age'].apply(lambda x : get_user_mapping(x))\n",
    "df['participant_gender'] = df['participant_gender'].fillna(\"NA\")\n",
    "df['participant_gender_map'] = df['participant_gender'].apply(lambda x : get_user_mapping(x))\n"
   ]
  },
  {
   "cell_type": "code",
   "execution_count": 87,
   "metadata": {
    "colab": {},
    "colab_type": "code",
    "id": "OA1EfxTjYIh6"
   },
   "outputs": [],
   "source": [
    "## find gender groups \n",
    "suspect_age_groups = {}\n",
    "victim_age_groups = {}\n",
    "for i, row in df.iterrows():\n",
    "    suspects = []\n",
    "    for k,v in row['participant_type_map'].items():\n",
    "        if \"suspect\" in v.lower():\n",
    "            suspects.append(k)\n",
    "    for suspect in suspects:\n",
    "        if suspect in row['participant_gender_map']:\n",
    "            ag = row['participant_gender_map'][suspect]\n",
    "            if ag not in suspect_age_groups:\n",
    "                suspect_age_groups[ag] = 0 \n",
    "            else:\n",
    "                suspect_age_groups[ag] += 1\n",
    "                        \n",
    "    victims = []\n",
    "    for k,v in row['participant_type_map'].items():\n",
    "        if \"victim\" in v.lower():\n",
    "            victims.append(k)\n",
    "    for victim in victims:\n",
    "        if victim in row['participant_gender_map']:\n",
    "            ag = row['participant_gender_map'][victim]\n",
    "            if ag not in victim_age_groups:\n",
    "                victim_age_groups[ag] = 0 \n",
    "            else:\n",
    "                victim_age_groups[ag] += 1\n",
    "                \n",
    "                \n",
    "del victim_age_groups['Male, female']\n"
   ]
  },
  {
   "cell_type": "code",
   "execution_count": 88,
   "metadata": {},
   "outputs": [
    {
     "ename": "ModuleNotFoundError",
     "evalue": "No module named 'plotly.graph_objects'",
     "output_type": "error",
     "traceback": [
      "\u001b[0;31m---------------------------------------------------------------------------\u001b[0m",
      "\u001b[0;31mModuleNotFoundError\u001b[0m                       Traceback (most recent call last)",
      "\u001b[0;32m<ipython-input-88-e8b6db58a9fe>\u001b[0m in \u001b[0;36m<module>\u001b[0;34m\u001b[0m\n\u001b[0;32m----> 1\u001b[0;31m \u001b[0;32mimport\u001b[0m \u001b[0mplotly\u001b[0m\u001b[0;34m.\u001b[0m\u001b[0mgraph_objects\u001b[0m \u001b[0;32mas\u001b[0m \u001b[0mgo\u001b[0m\u001b[0;34m\u001b[0m\u001b[0;34m\u001b[0m\u001b[0m\n\u001b[0m\u001b[1;32m      2\u001b[0m \u001b[0;32mfrom\u001b[0m \u001b[0mplotly\u001b[0m\u001b[0;34m.\u001b[0m\u001b[0msubplots\u001b[0m \u001b[0;32mimport\u001b[0m \u001b[0mmake_subplots\u001b[0m\u001b[0;34m\u001b[0m\u001b[0;34m\u001b[0m\u001b[0m\n\u001b[1;32m      3\u001b[0m \u001b[0;34m\u001b[0m\u001b[0m\n\u001b[1;32m      4\u001b[0m \u001b[0;31m# fig = {\u001b[0m\u001b[0;34m\u001b[0m\u001b[0;34m\u001b[0m\u001b[0;34m\u001b[0m\u001b[0m\n\u001b[1;32m      5\u001b[0m \u001b[0;31m#   \"data\": [\u001b[0m\u001b[0;34m\u001b[0m\u001b[0;34m\u001b[0m\u001b[0;34m\u001b[0m\u001b[0m\n",
      "\u001b[0;31mModuleNotFoundError\u001b[0m: No module named 'plotly.graph_objects'"
     ]
    }
   ],
   "source": [
    "import plotly.graph_objects as go\n",
    "from plotly.subplots import make_subplots \n",
    "\n",
    "# fig = {\n",
    "#   \"data\": [\n",
    "#     {\n",
    "#       \"values\": list(suspect_age_groups.values()),\n",
    "#       \"labels\": list(suspect_age_groups.keys()),\n",
    "#       \"marker\" : dict(colors=['#fc76bb','#b4a9f9']),\n",
    "#       \"name\": \"Suspects\",\n",
    "# #       \"domain\": {\"x\": [0, .48]},\n",
    "# #       \"hoverinfo\":\"label+percent+name\",\n",
    "# #       \"hole\": .7,\n",
    "# #       \"type\": \"pie\"\n",
    "#     },\n",
    "#     {\n",
    "#       \"values\": list(victim_age_groups.values()),\n",
    "#       \"labels\": list(victim_age_groups.keys()),\n",
    "#       \"text\": [\"Victims\"],\n",
    "#       \"marker\" : dict(colors=['#b4a9f9','#fc76bb']),\n",
    "# #       \"textposition\":\"inside\",\n",
    "# #       \"domain\": {\"x\": [.52, 1]},\n",
    "#       \"name\": \"Victims\",\n",
    "# #       \"hoverinfo\":\"label+percent+name\",\n",
    "# #       \"hole\": .7,\n",
    "# #       \"type\": \"pie\"\n",
    "#     }],\n",
    "#   \"layout\": {\n",
    "#           \"showlegend\" : False,\n",
    "#         \"title\":\"Genders of People Involved\",\n",
    "#         \"annotations\": [\n",
    "#             {\n",
    "#                 \"font\": {\n",
    "#                     \"size\": 20\n",
    "#                 },\n",
    "#                 \"showarrow\": False,\n",
    "#                 \"text\": \"Suspects\",\n",
    "#                 \"x\": 0.20,\n",
    "#                 \"y\": 0.5\n",
    "#             },\n",
    "#             {\n",
    "#                 \"font\": {\n",
    "#                     \"size\": 20\n",
    "#                 },\n",
    "#                 \"showarrow\": False,\n",
    "#                 \"text\": \"Victims\",\n",
    "#                 \"x\": 0.8,\n",
    "#                 \"y\": 0.5\n",
    "#             }\n",
    "#         ]\n",
    "#     }\n",
    "# }\n",
    "# iplot(fig)\n",
    "\n",
    "# trace1 = go.Pie(labels=list(suspect_age_groups.keys()), values=list(suspect_age_groups.values()), marker=dict(colors = ['#FEBFB3', '#E1396C']))\n",
    "# trace2 = go.Pie(labels=list(victim_age_groups.keys()), values=list(victim_age_groups.values()), marker=dict(colors = ['#FEBFB3', '#E1396C']))\n",
    "# layout = dict(height=500, title='Gender', legend=dict(orientation=\"h\"));\n",
    "# fig = go.Figure(data=[trace1, trace2], layout=layout)\n",
    "# iplot(fig)\n",
    "\n",
    "# fig = make_subplots(rows=1, cols=2, specs=[[{'type':'domain'}, {'type':'domain'}]])\n",
    "# fig.add_trace(go.Pie(labels=list(suspect_age_groups.keys()), values=values=list(suspect_age_groups.values()), name=\"Suspects\"),\n",
    "#               1, 1)\n",
    "# fig.add_trace(go.Pie(labels=list(victim_age_groups.keys()), values=list(victim_age_groups.values()), name=\"Victims\"),\n",
    "#               1, 2)\n",
    "\n",
    "# # Use `hole` to create a donut-like pie chart\n",
    "# fig.update_traces(hole=.4, hoverinfo=\"label+percent+name\")\n",
    "\n",
    "# fig.update_layout(\n",
    "#     title_text=\"Gender\",\n",
    "#     # Add annotations in the center of the donut pies.\n",
    "#     annotations=[dict(text='Suspect', x=0.18, y=0.5, font_size=20, showarrow=False),\n",
    "#                  dict(text='Victim', x=0.82, y=0.5, font_size=20, showarrow=False)])\n",
    "# fig.show()"
   ]
  },
  {
   "cell_type": "code",
   "execution_count": null,
   "metadata": {
    "colab": {},
    "colab_type": "code",
    "id": "ib1WQwe6NdwR"
   },
   "outputs": [],
   "source": []
  },
  {
   "cell_type": "code",
   "execution_count": null,
   "metadata": {
    "colab": {},
    "colab_type": "code",
    "id": "u70tJhvMLk7-"
   },
   "outputs": [],
   "source": []
  }
 ],
 "metadata": {
  "colab": {
   "name": "Grad project.ipynb",
   "provenance": [],
   "version": "0.3.2"
  },
  "kernelspec": {
   "display_name": "Python 3",
   "language": "python",
   "name": "python3"
  },
  "language_info": {
   "codemirror_mode": {
    "name": "ipython",
    "version": 3
   },
   "file_extension": ".py",
   "mimetype": "text/x-python",
   "name": "python",
   "nbconvert_exporter": "python",
   "pygments_lexer": "ipython3",
   "version": "3.7.3"
  }
 },
 "nbformat": 4,
 "nbformat_minor": 2
}
